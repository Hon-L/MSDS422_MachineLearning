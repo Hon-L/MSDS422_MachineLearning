{
 "cells": [
  {
   "cell_type": "code",
   "execution_count": 3,
   "metadata": {},
   "outputs": [],
   "source": [
    "# Boston Housing Study (Python)\n",
    "# using data from the Boston Housing Study case\n",
    "# as described in \"Marketing Data Science: Modeling Techniques\n",
    "# for Predictive Analytics with R and Python\" (Miller 2015)\n",
    "\n",
    "# Here we use data from the Boston Housing Study to evaluate\n",
    "# regression modeling methods within a cross-validation design.\n",
    "\n",
    "# program revised by Thomas W. Milller (2017/09/29)\n",
    "\n",
    "# Scikit Learn documentation for this assignment:\n",
    "# http://scikit-learn.org/stable/modules/model_evaluation.html \n",
    "# http://scikit-learn.org/stable/modules/generated/\n",
    "#   sklearn.model_selection.KFold.html\n",
    "# http://scikit-learn.org/stable/modules/generated/\n",
    "#   sklearn.linear_model.LinearRegression.html\n",
    "# http://scikit-learn.org/stable/auto_examples/linear_model/plot_ols.html\n",
    "# http://scikit-learn.org/stable/modules/generated/\n",
    "#   sklearn.linear_model.Ridge.html\n",
    "# http://scikit-learn.org/stable/modules/generated/\n",
    "#   sklearn.linear_model.Lasso.html\n",
    "# http://scikit-learn.org/stable/modules/generated/\n",
    "#   sklearn.linear_model.ElasticNet.html\n",
    "# http://scikit-learn.org/stable/modules/generated/\n",
    "#   sklearn.metrics.r2_score.html\n",
    "\n",
    "# Textbook reference materials:\n",
    "# Geron, A. 2017. Hands-On Machine Learning with Scikit-Learn\n",
    "# and TensorFlow. Sebastopal, Calif.: O'Reilly. Chapter 3 Training Models\n",
    "# has sections covering linear regression, polynomial regression,\n",
    "# and regularized linear models. Sample code from the book is \n",
    "# available on GitHub at https://github.com/ageron/handson-ml\n",
    "\n",
    "# prepare for Python version 3x features and functions\n",
    "# comment out for Python 3.x execution\n",
    "# from __future__ import division, print_function\n",
    "# from future_builtins import ascii, filter, hex, map, oct, zip\n",
    "\n"
   ]
  },
  {
   "cell_type": "code",
   "execution_count": 4,
   "metadata": {},
   "outputs": [],
   "source": [
    "# seed value for random number generators to obtain reproducible results\n",
    "RANDOM_SEED = 42\n",
    "\n"
   ]
  },
  {
   "cell_type": "code",
   "execution_count": 5,
   "metadata": {},
   "outputs": [],
   "source": [
    "# although we standardize X and y variables on input,\n",
    "# we will fit the intercept term in the models\n",
    "# Expect fitted values to be close to zero\n",
    "SET_FIT_INTERCEPT = True\n",
    "\n",
    "\n",
    "\n"
   ]
  },
  {
   "cell_type": "code",
   "execution_count": 6,
   "metadata": {},
   "outputs": [],
   "source": [
    "# import base packages into the namespace for this program\n",
    "import numpy as np\n",
    "import pandas as pd\n",
    "import matplotlib.pyplot as plt\n",
    "import seaborn as sns\n",
    "from sklearn.model_selection import train_test_split #split the data into training and test sets\n",
    "import statsmodels.api as sm #to print report\n",
    "from sklearn.model_selection import cross_val_score\n",
    "%matplotlib inline\n",
    "\n",
    "# modeling routines from Scikit Learn packages\n",
    "import sklearn.linear_model \n",
    "from sklearn.linear_model import LinearRegression, Ridge, Lasso, ElasticNet\n",
    "from sklearn.metrics import mean_squared_error, r2_score  \n",
    "from math import sqrt  # for root mean-squared error calculation"
   ]
  },
  {
   "cell_type": "code",
   "execution_count": 7,
   "metadata": {},
   "outputs": [],
   "source": [
    "# read data for the Boston Housing Study\n",
    "# creating data frame restdata\n",
    "boston_input = pd.read_csv('/Users/honpro/3. housing/boston.csv')\n",
    "\n",
    "\n"
   ]
  },
  {
   "cell_type": "code",
   "execution_count": 8,
   "metadata": {},
   "outputs": [
    {
     "data": {
      "text/html": [
       "<div>\n",
       "<style scoped>\n",
       "    .dataframe tbody tr th:only-of-type {\n",
       "        vertical-align: middle;\n",
       "    }\n",
       "\n",
       "    .dataframe tbody tr th {\n",
       "        vertical-align: top;\n",
       "    }\n",
       "\n",
       "    .dataframe thead th {\n",
       "        text-align: right;\n",
       "    }\n",
       "</style>\n",
       "<table border=\"1\" class=\"dataframe\">\n",
       "  <thead>\n",
       "    <tr style=\"text-align: right;\">\n",
       "      <th></th>\n",
       "      <th>neighborhood</th>\n",
       "      <th>crim</th>\n",
       "      <th>zn</th>\n",
       "      <th>indus</th>\n",
       "      <th>chas</th>\n",
       "      <th>nox</th>\n",
       "      <th>rooms</th>\n",
       "      <th>age</th>\n",
       "      <th>dis</th>\n",
       "      <th>rad</th>\n",
       "      <th>tax</th>\n",
       "      <th>ptratio</th>\n",
       "      <th>lstat</th>\n",
       "      <th>mv</th>\n",
       "    </tr>\n",
       "  </thead>\n",
       "  <tbody>\n",
       "    <tr>\n",
       "      <th>0</th>\n",
       "      <td>Nahant</td>\n",
       "      <td>0.00632</td>\n",
       "      <td>18.0</td>\n",
       "      <td>2.31</td>\n",
       "      <td>0</td>\n",
       "      <td>0.538</td>\n",
       "      <td>6.575</td>\n",
       "      <td>65.2</td>\n",
       "      <td>4.0900</td>\n",
       "      <td>1</td>\n",
       "      <td>296</td>\n",
       "      <td>15.3</td>\n",
       "      <td>4.98</td>\n",
       "      <td>24.0</td>\n",
       "    </tr>\n",
       "    <tr>\n",
       "      <th>1</th>\n",
       "      <td>Swampscott</td>\n",
       "      <td>0.02731</td>\n",
       "      <td>0.0</td>\n",
       "      <td>7.07</td>\n",
       "      <td>0</td>\n",
       "      <td>0.469</td>\n",
       "      <td>6.421</td>\n",
       "      <td>78.9</td>\n",
       "      <td>4.9671</td>\n",
       "      <td>2</td>\n",
       "      <td>242</td>\n",
       "      <td>17.8</td>\n",
       "      <td>9.14</td>\n",
       "      <td>21.6</td>\n",
       "    </tr>\n",
       "    <tr>\n",
       "      <th>2</th>\n",
       "      <td>Swanpscott</td>\n",
       "      <td>0.02729</td>\n",
       "      <td>0.0</td>\n",
       "      <td>7.07</td>\n",
       "      <td>0</td>\n",
       "      <td>0.469</td>\n",
       "      <td>7.185</td>\n",
       "      <td>61.1</td>\n",
       "      <td>4.9671</td>\n",
       "      <td>2</td>\n",
       "      <td>242</td>\n",
       "      <td>17.8</td>\n",
       "      <td>4.03</td>\n",
       "      <td>34.7</td>\n",
       "    </tr>\n",
       "    <tr>\n",
       "      <th>3</th>\n",
       "      <td>Marblehead</td>\n",
       "      <td>0.03237</td>\n",
       "      <td>0.0</td>\n",
       "      <td>2.18</td>\n",
       "      <td>0</td>\n",
       "      <td>0.458</td>\n",
       "      <td>6.998</td>\n",
       "      <td>45.8</td>\n",
       "      <td>6.0622</td>\n",
       "      <td>3</td>\n",
       "      <td>222</td>\n",
       "      <td>18.7</td>\n",
       "      <td>2.94</td>\n",
       "      <td>33.4</td>\n",
       "    </tr>\n",
       "    <tr>\n",
       "      <th>4</th>\n",
       "      <td>Marblehead</td>\n",
       "      <td>0.06905</td>\n",
       "      <td>0.0</td>\n",
       "      <td>2.18</td>\n",
       "      <td>0</td>\n",
       "      <td>0.458</td>\n",
       "      <td>7.147</td>\n",
       "      <td>54.2</td>\n",
       "      <td>6.0622</td>\n",
       "      <td>3</td>\n",
       "      <td>222</td>\n",
       "      <td>18.7</td>\n",
       "      <td>5.33</td>\n",
       "      <td>36.2</td>\n",
       "    </tr>\n",
       "  </tbody>\n",
       "</table>\n",
       "</div>"
      ],
      "text/plain": [
       "  neighborhood     crim    zn  indus  chas    nox  rooms   age     dis  rad  \\\n",
       "0       Nahant  0.00632  18.0   2.31     0  0.538  6.575  65.2  4.0900    1   \n",
       "1   Swampscott  0.02731   0.0   7.07     0  0.469  6.421  78.9  4.9671    2   \n",
       "2   Swanpscott  0.02729   0.0   7.07     0  0.469  7.185  61.1  4.9671    2   \n",
       "3   Marblehead  0.03237   0.0   2.18     0  0.458  6.998  45.8  6.0622    3   \n",
       "4   Marblehead  0.06905   0.0   2.18     0  0.458  7.147  54.2  6.0622    3   \n",
       "\n",
       "   tax  ptratio  lstat    mv  \n",
       "0  296     15.3   4.98  24.0  \n",
       "1  242     17.8   9.14  21.6  \n",
       "2  242     17.8   4.03  34.7  \n",
       "3  222     18.7   2.94  33.4  \n",
       "4  222     18.7   5.33  36.2  "
      ]
     },
     "execution_count": 8,
     "metadata": {},
     "output_type": "execute_result"
    }
   ],
   "source": [
    "boston_input.head()"
   ]
  },
  {
   "cell_type": "code",
   "execution_count": 9,
   "metadata": {},
   "outputs": [
    {
     "name": "stdout",
     "output_type": "stream",
     "text": [
      "\n",
      "boston DataFrame (first and last five rows):\n",
      "  neighborhood     crim    zn  indus  chas    nox  rooms   age     dis  rad  \\\n",
      "0       Nahant  0.00632  18.0   2.31     0  0.538  6.575  65.2  4.0900    1   \n",
      "1   Swampscott  0.02731   0.0   7.07     0  0.469  6.421  78.9  4.9671    2   \n",
      "2   Swanpscott  0.02729   0.0   7.07     0  0.469  7.185  61.1  4.9671    2   \n",
      "3   Marblehead  0.03237   0.0   2.18     0  0.458  6.998  45.8  6.0622    3   \n",
      "4   Marblehead  0.06905   0.0   2.18     0  0.458  7.147  54.2  6.0622    3   \n",
      "\n",
      "   tax  ptratio  lstat    mv  \n",
      "0  296     15.3   4.98  24.0  \n",
      "1  242     17.8   9.14  21.6  \n",
      "2  242     17.8   4.03  34.7  \n",
      "3  222     18.7   2.94  33.4  \n",
      "4  222     18.7   5.33  36.2  \n",
      "    neighborhood     crim   zn  indus  chas    nox  rooms   age     dis  rad  \\\n",
      "501     Winthrop  0.06263  0.0  11.93     0  0.573  6.593  69.1  2.4786    1   \n",
      "502     Winthrop  0.04527  0.0  11.93     0  0.573  6.120  76.7  2.2875    1   \n",
      "503     Winthrop  0.06076  0.0  11.93     0  0.573  6.976  91.0  2.1675    1   \n",
      "504     Winthrop  0.10959  0.0  11.93     0  0.573  6.794  89.3  2.3889    1   \n",
      "505     Winthrop  0.04741  0.0  11.93     0  0.573  6.030  80.8  2.5050    1   \n",
      "\n",
      "     tax  ptratio  lstat    mv  \n",
      "501  273     21.0   9.67  22.4  \n",
      "502  273     21.0   9.08  20.6  \n",
      "503  273     21.0   5.64  23.9  \n",
      "504  273     21.0   6.48  22.0  \n",
      "505  273     21.0   7.88  19.0  \n",
      "\n",
      "General description of the boston_input DataFrame:\n",
      "<class 'pandas.core.frame.DataFrame'>\n",
      "RangeIndex: 506 entries, 0 to 505\n",
      "Data columns (total 14 columns):\n",
      "neighborhood    506 non-null object\n",
      "crim            506 non-null float64\n",
      "zn              506 non-null float64\n",
      "indus           506 non-null float64\n",
      "chas            506 non-null int64\n",
      "nox             506 non-null float64\n",
      "rooms           506 non-null float64\n",
      "age             506 non-null float64\n",
      "dis             506 non-null float64\n",
      "rad             506 non-null int64\n",
      "tax             506 non-null int64\n",
      "ptratio         506 non-null float64\n",
      "lstat           506 non-null float64\n",
      "mv              506 non-null float64\n",
      "dtypes: float64(10), int64(3), object(1)\n",
      "memory usage: 55.4+ KB\n",
      "None\n",
      "\n",
      "General description of the boston DataFrame:\n",
      "<class 'pandas.core.frame.DataFrame'>\n",
      "RangeIndex: 506 entries, 0 to 505\n",
      "Data columns (total 13 columns):\n",
      "crim       506 non-null float64\n",
      "zn         506 non-null float64\n",
      "indus      506 non-null float64\n",
      "chas       506 non-null int64\n",
      "nox        506 non-null float64\n",
      "rooms      506 non-null float64\n",
      "age        506 non-null float64\n",
      "dis        506 non-null float64\n",
      "rad        506 non-null int64\n",
      "tax        506 non-null int64\n",
      "ptratio    506 non-null float64\n",
      "lstat      506 non-null float64\n",
      "mv         506 non-null float64\n",
      "dtypes: float64(10), int64(3)\n",
      "memory usage: 51.5 KB\n",
      "None\n",
      "\n",
      "Descriptive statistics of the boston DataFrame:\n",
      "             crim          zn       indus        chas         nox       rooms  \\\n",
      "count  506.000000  506.000000  506.000000  506.000000  506.000000  506.000000   \n",
      "mean     3.613524   11.363636   11.136779    0.069170    0.554695    6.284634   \n",
      "std      8.601545   23.322453    6.860353    0.253994    0.115878    0.702617   \n",
      "min      0.006320    0.000000    0.460000    0.000000    0.385000    3.561000   \n",
      "25%      0.082045    0.000000    5.190000    0.000000    0.449000    5.885500   \n",
      "50%      0.256510    0.000000    9.690000    0.000000    0.538000    6.208500   \n",
      "75%      3.677082   12.500000   18.100000    0.000000    0.624000    6.623500   \n",
      "max     88.976200  100.000000   27.740000    1.000000    0.871000    8.780000   \n",
      "\n",
      "              age         dis         rad         tax     ptratio       lstat  \\\n",
      "count  506.000000  506.000000  506.000000  506.000000  506.000000  506.000000   \n",
      "mean    68.574901    3.795043    9.549407  408.237154   18.455534   12.653063   \n",
      "std     28.148861    2.105710    8.707259  168.537116    2.164946    7.141062   \n",
      "min      2.900000    1.129600    1.000000  187.000000   12.600000    1.730000   \n",
      "25%     45.025000    2.100175    4.000000  279.000000   17.400000    6.950000   \n",
      "50%     77.500000    3.207450    5.000000  330.000000   19.050000   11.360000   \n",
      "75%     94.075000    5.188425   24.000000  666.000000   20.200000   16.955000   \n",
      "max    100.000000   12.126500   24.000000  711.000000   22.000000   37.970000   \n",
      "\n",
      "               mv  \n",
      "count  506.000000  \n",
      "mean    22.528854  \n",
      "std      9.182176  \n",
      "min      5.000000  \n",
      "25%     17.025000  \n",
      "50%     21.200000  \n",
      "75%     25.000000  \n",
      "max     50.000000  \n",
      "\n",
      "Data dimensions: (506, 13)\n",
      "StandardScaler(copy=True, with_mean=True, with_std=True)\n",
      "[2.25288538e+01 3.61352356e+00 1.13636364e+01 1.11367787e+01\n",
      " 6.91699605e-02 5.54695059e-01 6.28463439e+00 6.85749012e+01\n",
      " 3.79504269e+00 9.54940711e+00 4.08237154e+02 1.84555336e+01\n",
      " 1.26530632e+01]\n",
      "[9.17309810e+00 8.59304135e+00 2.32993957e+01 6.85357058e+00\n",
      " 2.53742935e-01 1.15763115e-01 7.01922514e-01 2.81210326e+01\n",
      " 2.10362836e+00 8.69865112e+00 1.68370495e+02 2.16280519e+00\n",
      " 7.13400164e+00]\n",
      "\n",
      "Dimensions for model_data: (506, 13)\n"
     ]
    }
   ],
   "source": [
    "# check the pandas DataFrame object boston_input\n",
    "print('\\nboston DataFrame (first and last five rows):')\n",
    "print(boston_input.head())\n",
    "print(boston_input.tail())\n",
    "\n",
    "print('\\nGeneral description of the boston_input DataFrame:')\n",
    "print(boston_input.info())\n",
    "\n",
    "# drop neighborhood from the data being considered\n",
    "boston = boston_input.drop('neighborhood', 1)\n",
    "print('\\nGeneral description of the boston DataFrame:')\n",
    "print(boston.info())\n",
    "\n",
    "print('\\nDescriptive statistics of the boston DataFrame:')\n",
    "print(boston.describe())\n",
    "\n",
    "# set up preliminary data for data for fitting the models \n",
    "# the first column is the median housing value response\n",
    "# the remaining columns are the explanatory variables\n",
    "prelim_model_data = np.array([boston.mv,\\\n",
    "    boston.crim,\\\n",
    "    boston.zn,\\\n",
    "    boston.indus,\\\n",
    "    boston.chas,\\\n",
    "    boston.nox,\\\n",
    "    boston.rooms,\\\n",
    "    boston.age,\\\n",
    "    boston.dis,\\\n",
    "    boston.rad,\\\n",
    "    boston.tax,\\\n",
    "    boston.ptratio,\\\n",
    "    boston.lstat]).T\n",
    "\n",
    "# dimensions of the polynomial model X input and y response\n",
    "# preliminary data before standardization\n",
    "print('\\nData dimensions:', prelim_model_data.shape)\n",
    "\n",
    "# standard scores for the columns... along axis 0\n",
    "from sklearn.preprocessing import StandardScaler\n",
    "scaler = StandardScaler()\n",
    "print(scaler.fit(prelim_model_data))\n",
    "# show standardization constants being employed\n",
    "print(scaler.mean_)\n",
    "print(scaler.scale_)\n",
    "\n",
    "# the model data will be standardized form of preliminary model data\n",
    "model_data = scaler.fit_transform(prelim_model_data)\n",
    "\n",
    "# dimensions of the polynomial model X input and y response\n",
    "# all in standardized units of measure\n",
    "print('\\nDimensions for model_data:', model_data.shape)\n"
   ]
  },
  {
   "cell_type": "markdown",
   "metadata": {},
   "source": [
    "EDA with original data"
   ]
  },
  {
   "cell_type": "code",
   "execution_count": 10,
   "metadata": {},
   "outputs": [],
   "source": [
    "#boston_scaled =pd.DataFrame(scaler.fit_transform(boston), columns = boston.columns)"
   ]
  },
  {
   "cell_type": "code",
   "execution_count": 11,
   "metadata": {},
   "outputs": [
    {
     "data": {
      "text/html": [
       "<div>\n",
       "<style scoped>\n",
       "    .dataframe tbody tr th:only-of-type {\n",
       "        vertical-align: middle;\n",
       "    }\n",
       "\n",
       "    .dataframe tbody tr th {\n",
       "        vertical-align: top;\n",
       "    }\n",
       "\n",
       "    .dataframe thead th {\n",
       "        text-align: right;\n",
       "    }\n",
       "</style>\n",
       "<table border=\"1\" class=\"dataframe\">\n",
       "  <thead>\n",
       "    <tr style=\"text-align: right;\">\n",
       "      <th></th>\n",
       "      <th>crim</th>\n",
       "      <th>zn</th>\n",
       "      <th>indus</th>\n",
       "      <th>chas</th>\n",
       "      <th>nox</th>\n",
       "      <th>rooms</th>\n",
       "      <th>age</th>\n",
       "      <th>dis</th>\n",
       "      <th>rad</th>\n",
       "      <th>tax</th>\n",
       "      <th>ptratio</th>\n",
       "      <th>lstat</th>\n",
       "      <th>mv</th>\n",
       "    </tr>\n",
       "  </thead>\n",
       "  <tbody>\n",
       "    <tr>\n",
       "      <th>0</th>\n",
       "      <td>0.00632</td>\n",
       "      <td>18.0</td>\n",
       "      <td>2.31</td>\n",
       "      <td>0</td>\n",
       "      <td>0.538</td>\n",
       "      <td>6.575</td>\n",
       "      <td>65.2</td>\n",
       "      <td>4.0900</td>\n",
       "      <td>1</td>\n",
       "      <td>296</td>\n",
       "      <td>15.3</td>\n",
       "      <td>4.98</td>\n",
       "      <td>24.0</td>\n",
       "    </tr>\n",
       "    <tr>\n",
       "      <th>1</th>\n",
       "      <td>0.02731</td>\n",
       "      <td>0.0</td>\n",
       "      <td>7.07</td>\n",
       "      <td>0</td>\n",
       "      <td>0.469</td>\n",
       "      <td>6.421</td>\n",
       "      <td>78.9</td>\n",
       "      <td>4.9671</td>\n",
       "      <td>2</td>\n",
       "      <td>242</td>\n",
       "      <td>17.8</td>\n",
       "      <td>9.14</td>\n",
       "      <td>21.6</td>\n",
       "    </tr>\n",
       "    <tr>\n",
       "      <th>2</th>\n",
       "      <td>0.02729</td>\n",
       "      <td>0.0</td>\n",
       "      <td>7.07</td>\n",
       "      <td>0</td>\n",
       "      <td>0.469</td>\n",
       "      <td>7.185</td>\n",
       "      <td>61.1</td>\n",
       "      <td>4.9671</td>\n",
       "      <td>2</td>\n",
       "      <td>242</td>\n",
       "      <td>17.8</td>\n",
       "      <td>4.03</td>\n",
       "      <td>34.7</td>\n",
       "    </tr>\n",
       "    <tr>\n",
       "      <th>3</th>\n",
       "      <td>0.03237</td>\n",
       "      <td>0.0</td>\n",
       "      <td>2.18</td>\n",
       "      <td>0</td>\n",
       "      <td>0.458</td>\n",
       "      <td>6.998</td>\n",
       "      <td>45.8</td>\n",
       "      <td>6.0622</td>\n",
       "      <td>3</td>\n",
       "      <td>222</td>\n",
       "      <td>18.7</td>\n",
       "      <td>2.94</td>\n",
       "      <td>33.4</td>\n",
       "    </tr>\n",
       "    <tr>\n",
       "      <th>4</th>\n",
       "      <td>0.06905</td>\n",
       "      <td>0.0</td>\n",
       "      <td>2.18</td>\n",
       "      <td>0</td>\n",
       "      <td>0.458</td>\n",
       "      <td>7.147</td>\n",
       "      <td>54.2</td>\n",
       "      <td>6.0622</td>\n",
       "      <td>3</td>\n",
       "      <td>222</td>\n",
       "      <td>18.7</td>\n",
       "      <td>5.33</td>\n",
       "      <td>36.2</td>\n",
       "    </tr>\n",
       "  </tbody>\n",
       "</table>\n",
       "</div>"
      ],
      "text/plain": [
       "      crim    zn  indus  chas    nox  rooms   age     dis  rad  tax  ptratio  \\\n",
       "0  0.00632  18.0   2.31     0  0.538  6.575  65.2  4.0900    1  296     15.3   \n",
       "1  0.02731   0.0   7.07     0  0.469  6.421  78.9  4.9671    2  242     17.8   \n",
       "2  0.02729   0.0   7.07     0  0.469  7.185  61.1  4.9671    2  242     17.8   \n",
       "3  0.03237   0.0   2.18     0  0.458  6.998  45.8  6.0622    3  222     18.7   \n",
       "4  0.06905   0.0   2.18     0  0.458  7.147  54.2  6.0622    3  222     18.7   \n",
       "\n",
       "   lstat    mv  \n",
       "0   4.98  24.0  \n",
       "1   9.14  21.6  \n",
       "2   4.03  34.7  \n",
       "3   2.94  33.4  \n",
       "4   5.33  36.2  "
      ]
     },
     "execution_count": 11,
     "metadata": {},
     "output_type": "execute_result"
    }
   ],
   "source": [
    "boston.head()"
   ]
  },
  {
   "cell_type": "code",
   "execution_count": 12,
   "metadata": {},
   "outputs": [
    {
     "data": {
      "image/png": "[encoded data removed]",
      "text/plain": [
       "<Figure size 432x288 with 1 Axes>"
      ]
     },
     "metadata": {
      "needs_background": "light"
     },
     "output_type": "display_data"
    },
    {
     "data": {
      "image/png": "[encoded data removed]",
      "text/plain": [
       "<Figure size 432x288 with 1 Axes>"
      ]
     },
     "metadata": {
      "needs_background": "light"
     },
     "output_type": "display_data"
    },
    {
     "data": {
      "image/png": "[encoded data removed]",
      "text/plain": [
       "<Figure size 432x288 with 1 Axes>"
      ]
     },
     "metadata": {
      "needs_background": "light"
     },
     "output_type": "display_data"
    },
    {
     "data": {
      "image/png": "[encoded data removed]",
      "text/plain": [
       "<Figure size 432x288 with 1 Axes>"
      ]
     },
     "metadata": {
      "needs_background": "light"
     },
     "output_type": "display_data"
    },
    {
     "data": {
      "image/png": "[encoded data removed]",
      "text/plain": [
       "<Figure size 432x288 with 1 Axes>"
      ]
     },
     "metadata": {
      "needs_background": "light"
     },
     "output_type": "display_data"
    },
    {
     "data": {
      "image/png": "[encoded data removed]",
      "text/plain": [
       "<Figure size 432x288 with 1 Axes>"
      ]
     },
     "metadata": {
      "needs_background": "light"
     },
     "output_type": "display_data"
    },
    {
     "data": {
      "image/png": "[encoded data removed]",
      "text/plain": [
       "<Figure size 432x288 with 1 Axes>"
      ]
     },
     "metadata": {
      "needs_background": "light"
     },
     "output_type": "display_data"
    },
    {
     "data": {
      "image/png": "[encoded data removed]",
      "text/plain": [
       "<Figure size 432x288 with 1 Axes>"
      ]
     },
     "metadata": {
      "needs_background": "light"
     },
     "output_type": "display_data"
    },
    {
     "data": {
      "image/png": "[encoded data removed]",
      "text/plain": [
       "<Figure size 432x288 with 1 Axes>"
      ]
     },
     "metadata": {
      "needs_background": "light"
     },
     "output_type": "display_data"
    },
    {
     "data": {
      "image/png": "[encoded data removed]",
      "text/plain": [
       "<Figure size 432x288 with 1 Axes>"
      ]
     },
     "metadata": {
      "needs_background": "light"
     },
     "output_type": "display_data"
    },
    {
     "data": {
      "image/png": "[encoded data removed]",
      "text/plain": [
       "<Figure size 432x288 with 1 Axes>"
      ]
     },
     "metadata": {
      "needs_background": "light"
     },
     "output_type": "display_data"
    },
    {
     "data": {
      "image/png": "[encoded data removed]",
      "text/plain": [
       "<Figure size 432x288 with 1 Axes>"
      ]
     },
     "metadata": {
      "needs_background": "light"
     },
     "output_type": "display_data"
    },
    {
     "data": {
      "image/png": "[encoded data removed]",
      "text/plain": [
       "<Figure size 432x288 with 1 Axes>"
      ]
     },
     "metadata": {
      "needs_background": "light"
     },
     "output_type": "display_data"
    }
   ],
   "source": [
    "for i in range(13):\n",
    "    plt.figure()\n",
    "    plot_title = boston.columns[i]\n",
    "    plt.title(plot_title)\n",
    "    sns.boxplot(boston[boston.columns[i]], data=boston)\n",
    "plt.show()\n",
    "\n"
   ]
  },
  {
   "cell_type": "code",
   "execution_count": 13,
   "metadata": {},
   "outputs": [
    {
     "data": {
      "image/png": "[encoded data removed]",
      "text/plain": [
       "<Figure size 432x288 with 1 Axes>"
      ]
     },
     "metadata": {
      "needs_background": "light"
     },
     "output_type": "display_data"
    },
    {
     "data": {
      "image/png": "[encoded data removed]",
      "text/plain": [
       "<Figure size 432x288 with 1 Axes>"
      ]
     },
     "metadata": {
      "needs_background": "light"
     },
     "output_type": "display_data"
    },
    {
     "data": {
      "image/png": "[encoded data removed]",
      "text/plain": [
       "<Figure size 432x288 with 1 Axes>"
      ]
     },
     "metadata": {
      "needs_background": "light"
     },
     "output_type": "display_data"
    },
    {
     "data": {
      "image/png": "[encoded data removed]",
      "text/plain": [
       "<Figure size 432x288 with 1 Axes>"
      ]
     },
     "metadata": {
      "needs_background": "light"
     },
     "output_type": "display_data"
    },
    {
     "data": {
      "image/png": "[encoded data removed]",
      "text/plain": [
       "<Figure size 432x288 with 1 Axes>"
      ]
     },
     "metadata": {
      "needs_background": "light"
     },
     "output_type": "display_data"
    },
    {
     "data": {
      "image/png": "[encoded data removed]",
      "text/plain": [
       "<Figure size 432x288 with 1 Axes>"
      ]
     },
     "metadata": {
      "needs_background": "light"
     },
     "output_type": "display_data"
    },
    {
     "data": {
      "image/png": "[encoded data removed]",
      "text/plain": [
       "<Figure size 432x288 with 1 Axes>"
      ]
     },
     "metadata": {
      "needs_background": "light"
     },
     "output_type": "display_data"
    },
    {
     "data": {
      "image/png": "[encoded data removed]",
      "text/plain": [
       "<Figure size 432x288 with 1 Axes>"
      ]
     },
     "metadata": {
      "needs_background": "light"
     },
     "output_type": "display_data"
    },
    {
     "data": {
      "image/png": "[encoded data removed]",
      "text/plain": [
       "<Figure size 432x288 with 1 Axes>"
      ]
     },
     "metadata": {
      "needs_background": "light"
     },
     "output_type": "display_data"
    },
    {
     "data": {
      "image/png": "[encoded data removed]",
      "text/plain": [
       "<Figure size 432x288 with 1 Axes>"
      ]
     },
     "metadata": {
      "needs_background": "light"
     },
     "output_type": "display_data"
    },
    {
     "data": {
      "image/png": "[encoded data removed]",
      "text/plain": [
       "<Figure size 432x288 with 1 Axes>"
      ]
     },
     "metadata": {
      "needs_background": "light"
     },
     "output_type": "display_data"
    },
    {
     "data": {
      "image/png": "[encoded data removed]",
      "text/plain": [
       "<Figure size 432x288 with 1 Axes>"
      ]
     },
     "metadata": {
      "needs_background": "light"
     },
     "output_type": "display_data"
    }
   ],
   "source": [
    "for i in range(12):\n",
    "    plt.figure()\n",
    "    plot_title = boston.columns[i]\n",
    "    plt.title(plot_title)\n",
    "    sns.scatterplot(x=boston[boston.columns[i]], y='mv', data=boston)\n",
    "plt.show()\n"
   ]
  },
  {
   "cell_type": "code",
   "execution_count": 14,
   "metadata": {},
   "outputs": [],
   "source": [
    "#Seperate IV and DV\n",
    "#X = boston.drop('mv', axis=1)\n",
    "#y = boston['mv']\n",
    "\n",
    "#X=model_data[:,1:12]\n",
    "#y=model_data[:,0]\n",
    "\n",
    "\n"
   ]
  },
  {
   "cell_type": "code",
   "execution_count": 15,
   "metadata": {},
   "outputs": [],
   "source": [
    "#Train Test Split\n",
    "#X_train, x_test, y_train, y_test = train_test_split(X,y, test_size = .2, random_state = RANDOM_SEED)\n",
    "\n",
    "\n"
   ]
  },
  {
   "cell_type": "markdown",
   "metadata": {},
   "source": [
    "Linear Regression"
   ]
  },
  {
   "cell_type": "code",
   "execution_count": 16,
   "metadata": {},
   "outputs": [],
   "source": [
    "#Model intercept and coefficient\n",
    "#print('Intercept for model: {}'.format(lr.intercept_))\n",
    "#print('Coeffecients for model: {}'.format(lr.coef_))"
   ]
  },
  {
   "cell_type": "code",
   "execution_count": 17,
   "metadata": {},
   "outputs": [],
   "source": [
    "#lr = LinearRegression()"
   ]
  },
  {
   "cell_type": "code",
   "execution_count": 18,
   "metadata": {},
   "outputs": [],
   "source": [
    "#lr.fit(X_train,y_train)"
   ]
  },
  {
   "cell_type": "code",
   "execution_count": null,
   "metadata": {},
   "outputs": [],
   "source": [
    "\n",
    "\n"
   ]
  },
  {
   "cell_type": "code",
   "execution_count": null,
   "metadata": {},
   "outputs": [],
   "source": []
  },
  {
   "cell_type": "code",
   "execution_count": 19,
   "metadata": {},
   "outputs": [],
   "source": [
    "#Stat summary\n",
    "#model = sm.OLS(y,X)\n",
    "#result=model.fit()\n",
    "#print(result.summary())"
   ]
  },
  {
   "cell_type": "code",
   "execution_count": 20,
   "metadata": {},
   "outputs": [],
   "source": [
    "#Ridge regression\n",
    "#ridge = Ridge(alpha = 1, solver = 'cholesky')\n",
    "#print(ridge.fit(X_train,y_train))\n",
    "#print(ridge.score(X_train,y_train))\n",
    "#print(ridge.score(X_test,y_test))\n",
    "\n"
   ]
  },
  {
   "cell_type": "code",
   "execution_count": 21,
   "metadata": {},
   "outputs": [],
   "source": [
    "#Lasso regression\n",
    "#lasso = Lasso(alpha = .1)\n",
    "#print(lasso.fit(X_train,y_train))\n",
    "#print(lasso.score(X_train,y_train))\n",
    "#print(lasso.score(X_test,y_test))"
   ]
  },
  {
   "cell_type": "code",
   "execution_count": 22,
   "metadata": {},
   "outputs": [],
   "source": [
    "#Cross validation\n",
    "#x=np.linspace(0,5,10)\n",
    "#fig, axes = plt.subplots(2,2, figsize=(16,16))\n",
    "#i=0\n",
    "#j=0\n",
    "#for i in range(2):\n",
    " #   for j in range(2):\n",
    "  #      axes[i,j].plot(boston[boston.columns[i+1]],boston['mv'])\n",
    "#axes[0,1].plot(x,x**2)\n",
    "#axes[1,0].plot(x,x**2)\n",
    "#axes[1,1].plot(x,x**2)\n",
    "#plt.show()"
   ]
  },
  {
   "cell_type": "markdown",
   "metadata": {},
   "source": [
    "# TEST"
   ]
  },
  {
   "cell_type": "code",
   "execution_count": 939,
   "metadata": {},
   "outputs": [],
   "source": [
    "names = ['Linear_Regression', 'Ridge_Regression', 'Lasso_Regression', 'ElasticNet']\n",
    "#Create all instances of regressors\n",
    "names\n",
    "regressors = [LinearRegression(fit_intercept = SET_FIT_INTERCEPT, normalize=False),\n",
    "              Ridge(alpha = 167.8, solver = 'cholesky', fit_intercept = SET_FIT_INTERCEPT, normalize=False),\n",
    "              ElasticNet(alpha=.1, l1_ratio = .5),\n",
    "              Lasso(alpha = .0101, fit_intercept = SET_FIT_INTERCEPT, random_state = RANDOM_SEED)]"
   ]
  },
  {
   "cell_type": "code",
   "execution_count": 940,
   "metadata": {},
   "outputs": [
    {
     "name": "stdout",
     "output_type": "stream",
     "text": [
      "[[0. 0. 0. 0.]\n",
      " [0. 0. 0. 0.]\n",
      " [0. 0. 0. 0.]\n",
      " [0. 0. 0. 0.]\n",
      " [0. 0. 0. 0.]\n",
      " [0. 0. 0. 0.]\n",
      " [0. 0. 0. 0.]\n",
      " [0. 0. 0. 0.]\n",
      " [0. 0. 0. 0.]\n",
      " [0. 0. 0. 0.]]\n"
     ]
    }
   ],
   "source": [
    "#Kfold validation\n",
    "from sklearn.model_selection import KFold\n",
    "N_FOLDS = 10\n",
    "cv_results = np.zeros((N_FOLDS,len(names)))\n",
    "print(cv_results)\n"
   ]
  },
  {
   "cell_type": "code",
   "execution_count": 941,
   "metadata": {},
   "outputs": [],
   "source": [
    "kf = KFold(n_splits = 10, shuffle = False, random_state = RANDOM_SEED)\n",
    "\n",
    "\n"
   ]
  },
  {
   "cell_type": "code",
   "execution_count": 942,
   "metadata": {},
   "outputs": [],
   "source": [
    "index_for_fold = 0\n",
    "index_for_method = 0"
   ]
  },
  {
   "cell_type": "code",
   "execution_count": 943,
   "metadata": {},
   "outputs": [
    {
     "name": "stdout",
     "output_type": "stream",
     "text": [
      "\n",
      "fold number 0 and method 0\n",
      "\n",
      "regression model evaluation for: Linear_Regression\n",
      " Scikit learn method LinearRegression(copy_X=True, fit_intercept=True, n_jobs=None,\n",
      "         normalize=False)\n",
      "\n",
      "Fitted Regression intercept -0.005032049293645764\n",
      "\\Fitted Response coeffecient [-0.11088775  0.13573238  0.01408652  0.0787664  -0.23758124  0.26794267\n",
      "  0.0065031  -0.37082275  0.27035218 -0.23150162 -0.21456859 -0.45500336]\n",
      "\n",
      "R-squared 0.7650752349379009\n",
      "{'copy_X': True, 'fit_intercept': True, 'n_jobs': None, 'normalize': False}\n",
      "\n",
      "RMSE 0.3080338355432656\n",
      "\n",
      "fold number 0 and method 1\n",
      "\n",
      "regression model evaluation for: Ridge_Regression\n",
      " Scikit learn method Ridge(alpha=167.8, copy_X=True, fit_intercept=True, max_iter=None,\n",
      "   normalize=False, random_state=None, solver='cholesky', tol=0.001)\n",
      "\n",
      "Fitted Regression intercept 0.014599898884189118\n",
      "\\Fitted Response coeffecient [-0.07693805  0.04994448 -0.06019971  0.07923159 -0.08632626  0.27827731\n",
      " -0.00629946 -0.13538609  0.02704661 -0.07191987 -0.15762171 -0.29449472]\n",
      "\n",
      "R-squared 0.7399515211859864\n",
      "{'alpha': 167.8, 'copy_X': True, 'fit_intercept': True, 'max_iter': None, 'normalize': False, 'random_state': None, 'solver': 'cholesky', 'tol': 0.001}\n",
      "\n",
      "RMSE 0.32408667997479695\n",
      "\n",
      "fold number 0 and method 2\n",
      "\n",
      "regression model evaluation for: Lasso_Regression\n",
      " Scikit learn method ElasticNet(alpha=0.1, copy_X=True, fit_intercept=True, l1_ratio=0.5,\n",
      "      max_iter=1000, normalize=False, positive=False, precompute=False,\n",
      "      random_state=None, selection='cyclic', tol=0.0001, warm_start=False)\n",
      "\n",
      "Fitted Regression intercept 0.009904188075220047\n",
      "\\Fitted Response coeffecient [-0.03414524  0.         -0.          0.05097856 -0.03372387  0.30937459\n",
      " -0.         -0.04960688 -0.         -0.0319699  -0.16824973 -0.39245746]\n",
      "\n",
      "R-squared 0.7764678677875372\n",
      "{'alpha': 0.1, 'copy_X': True, 'fit_intercept': True, 'l1_ratio': 0.5, 'max_iter': 1000, 'normalize': False, 'positive': False, 'precompute': False, 'random_state': None, 'selection': 'cyclic', 'tol': 0.0001, 'warm_start': False}\n",
      "\n",
      "RMSE 0.30047199696518917\n",
      "\n",
      "fold number 0 and method 3\n",
      "\n",
      "regression model evaluation for: ElasticNet\n",
      " Scikit learn method Lasso(alpha=0.0101, copy_X=True, fit_intercept=True, max_iter=1000,\n",
      "   normalize=False, positive=False, precompute=False, random_state=42,\n",
      "   selection='cyclic', tol=0.0001, warm_start=False)\n",
      "\n",
      "Fitted Regression intercept -0.0019179330074683837\n",
      "\\Fitted Response coeffecient [-0.08262289  0.09633606 -0.00148964  0.0760359  -0.18731447  0.28497478\n",
      " -0.         -0.30423447  0.13387823 -0.11911788 -0.1992021  -0.44700434]\n",
      "\n",
      "R-squared 0.7812551654822282\n",
      "{'alpha': 0.0101, 'copy_X': True, 'fit_intercept': True, 'max_iter': 1000, 'normalize': False, 'positive': False, 'precompute': False, 'random_state': 42, 'selection': 'cyclic', 'tol': 0.0001, 'warm_start': False}\n",
      "\n",
      "RMSE 0.2972370388702321\n",
      "\n",
      "fold number 1 and method 0\n",
      "\n",
      "regression model evaluation for: Linear_Regression\n",
      " Scikit learn method LinearRegression(copy_X=True, fit_intercept=True, n_jobs=None,\n",
      "         normalize=False)\n",
      "\n",
      "Fitted Regression intercept 0.014758668479534831\n",
      "\\Fitted Response coeffecient [-0.11416916  0.13735395  0.03040902  0.07372903 -0.27663382  0.25006708\n",
      "  0.01204323 -0.38289271  0.28725993 -0.25460716 -0.22651486 -0.45255877]\n",
      "\n",
      "R-squared 0.46067574628462904\n",
      "{'copy_X': True, 'fit_intercept': True, 'n_jobs': None, 'normalize': False}\n",
      "\n",
      "RMSE 0.4148885192245404\n",
      "\n",
      "fold number 1 and method 1\n",
      "\n",
      "regression model evaluation for: Ridge_Regression\n",
      " Scikit learn method Ridge(alpha=167.8, copy_X=True, fit_intercept=True, max_iter=None,\n",
      "   normalize=False, random_state=None, solver='cholesky', tol=0.001)\n",
      "\n",
      "Fitted Regression intercept 0.013784304541063414\n",
      "\\Fitted Response coeffecient [-0.07582603  0.05905138 -0.04893362  0.07978714 -0.09553182  0.26908969\n",
      " -0.0215176  -0.14441253  0.03274357 -0.06719931 -0.16493598 -0.30645544]\n",
      "\n",
      "R-squared 0.6136340187435645\n",
      "{'alpha': 167.8, 'copy_X': True, 'fit_intercept': True, 'max_iter': None, 'normalize': False, 'random_state': None, 'solver': 'cholesky', 'tol': 0.001}\n",
      "\n",
      "RMSE 0.3511606805031872\n",
      "\n",
      "fold number 1 and method 2\n",
      "\n",
      "regression model evaluation for: Lasso_Regression\n",
      " Scikit learn method ElasticNet(alpha=0.1, copy_X=True, fit_intercept=True, l1_ratio=0.5,\n",
      "      max_iter=1000, normalize=False, positive=False, precompute=False,\n",
      "      random_state=None, selection='cyclic', tol=0.0001, warm_start=False)\n",
      "\n",
      "Fitted Regression intercept 0.013912928242550436\n",
      "\\Fitted Response coeffecient [-0.03356441  0.         -0.          0.05122196 -0.05934502  0.29267814\n",
      " -0.         -0.06030619 -0.         -0.01668568 -0.17950774 -0.40471715]\n",
      "\n",
      "R-squared 0.6448649964258959\n",
      "{'alpha': 0.1, 'copy_X': True, 'fit_intercept': True, 'l1_ratio': 0.5, 'max_iter': 1000, 'normalize': False, 'positive': False, 'precompute': False, 'random_state': None, 'selection': 'cyclic', 'tol': 0.0001, 'warm_start': False}\n",
      "\n",
      "RMSE 0.3366690408865969\n",
      "\n",
      "fold number 1 and method 3\n",
      "\n",
      "regression model evaluation for: ElasticNet\n",
      " Scikit learn method Lasso(alpha=0.0101, copy_X=True, fit_intercept=True, max_iter=1000,\n",
      "   normalize=False, positive=False, precompute=False, random_state=42,\n",
      "   selection='cyclic', tol=0.0001, warm_start=False)\n",
      "\n",
      "Fitted Regression intercept 0.015222255320925943\n",
      "\\Fitted Response coeffecient [-0.08592271  0.0952007  -0.          0.07271349 -0.22581042  0.26765919\n",
      " -0.         -0.32430926  0.13930147 -0.12071878 -0.21197585 -0.44427176]\n",
      "\n",
      "R-squared 0.5171308709675841\n",
      "{'alpha': 0.0101, 'copy_X': True, 'fit_intercept': True, 'max_iter': 1000, 'normalize': False, 'positive': False, 'precompute': False, 'random_state': 42, 'selection': 'cyclic', 'tol': 0.0001, 'warm_start': False}\n",
      "\n",
      "RMSE 0.3925736645862013\n",
      "\n",
      "fold number 2 and method 0\n",
      "\n",
      "regression model evaluation for: Linear_Regression\n",
      " Scikit learn method LinearRegression(copy_X=True, fit_intercept=True, n_jobs=None,\n",
      "         normalize=False)\n",
      "\n",
      "Fitted Regression intercept -0.014115159953405641\n",
      "\\Fitted Response coeffecient [-0.10664359  0.09981359 -0.04577693  0.08952529 -0.30048571  0.26775898\n",
      "  0.03889984 -0.36068269  0.28974294 -0.17429598 -0.21660497 -0.48234705]\n",
      "\n",
      "R-squared -1.31117513765073\n",
      "{'copy_X': True, 'fit_intercept': True, 'n_jobs': None, 'normalize': False}\n",
      "\n",
      "RMSE 0.4389384002541711\n",
      "\n",
      "fold number 2 and method 1\n",
      "\n",
      "regression model evaluation for: Ridge_Regression\n",
      " Scikit learn method Ridge(alpha=167.8, copy_X=True, fit_intercept=True, max_iter=None,\n",
      "   normalize=False, random_state=None, solver='cholesky', tol=0.001)\n",
      "\n",
      "Fitted Regression intercept 0.007822832009758605\n",
      "\\Fitted Response coeffecient [-0.07635623  0.05204732 -0.06078487  0.0860341  -0.07897289  0.28166\n",
      " -0.01633962 -0.1459344   0.02716675 -0.05723035 -0.16469088 -0.31024218]\n",
      "\n",
      "R-squared 0.02829195812429708\n",
      "{'alpha': 167.8, 'copy_X': True, 'fit_intercept': True, 'max_iter': None, 'normalize': False, 'random_state': None, 'solver': 'cholesky', 'tol': 0.001}\n",
      "\n",
      "RMSE 0.28461320540939566\n",
      "\n",
      "fold number 2 and method 2\n",
      "\n",
      "regression model evaluation for: Lasso_Regression\n",
      " Scikit learn method ElasticNet(alpha=0.1, copy_X=True, fit_intercept=True, l1_ratio=0.5,\n",
      "      max_iter=1000, normalize=False, positive=False, precompute=False,\n",
      "      random_state=None, selection='cyclic', tol=0.0001, warm_start=False)\n",
      "\n",
      "Fitted Regression intercept 0.00329234467874457\n",
      "\\Fitted Response coeffecient [-0.03288234  0.         -0.00257575  0.05825471 -0.02683431  0.30768339\n",
      " -0.         -0.05211693 -0.         -0.00764777 -0.17873546 -0.42156355]\n",
      "\n",
      "R-squared -0.24253299220110636\n",
      "{'alpha': 0.1, 'copy_X': True, 'fit_intercept': True, 'l1_ratio': 0.5, 'max_iter': 1000, 'normalize': False, 'positive': False, 'precompute': False, 'random_state': None, 'selection': 'cyclic', 'tol': 0.0001, 'warm_start': False}\n",
      "\n",
      "RMSE 0.32184080998507014\n",
      "\n",
      "fold number 2 and method 3\n",
      "\n",
      "regression model evaluation for: ElasticNet\n",
      " Scikit learn method Lasso(alpha=0.0101, copy_X=True, fit_intercept=True, max_iter=1000,\n",
      "   normalize=False, positive=False, precompute=False, random_state=42,\n",
      "   selection='cyclic', tol=0.0001, warm_start=False)\n",
      "\n",
      "Fitted Regression intercept -0.00758378537497955\n",
      "\\Fitted Response coeffecient [-0.07998539  0.06341823 -0.0665401   0.08827131 -0.21960363  0.28777313\n",
      "  0.         -0.3077039   0.12013538 -0.03735478 -0.20123289 -0.46469836]\n",
      "\n",
      "R-squared -0.9278176784706336\n",
      "{'alpha': 0.0101, 'copy_X': True, 'fit_intercept': True, 'max_iter': 1000, 'normalize': False, 'positive': False, 'precompute': False, 'random_state': 42, 'selection': 'cyclic', 'tol': 0.0001, 'warm_start': False}\n",
      "\n",
      "RMSE 0.4008852961269656\n",
      "\n",
      "fold number 3 and method 0\n",
      "\n",
      "regression model evaluation for: Linear_Regression\n",
      " Scikit learn method LinearRegression(copy_X=True, fit_intercept=True, n_jobs=None,\n",
      "         normalize=False)\n",
      "\n",
      "Fitted Regression intercept -0.014029096554712628\n",
      "\\Fitted Response coeffecient [-1.17048631e-01  1.10845040e-01 -9.94849841e-05  8.70481938e-02\n",
      " -2.05847811e-01  2.18508749e-01  6.98625993e-03 -3.20588884e-01\n",
      "  2.72874916e-01 -2.31392387e-01 -2.23423701e-01 -4.38715772e-01]\n",
      "\n",
      "R-squared 0.6328856607774367\n",
      "{'copy_X': True, 'fit_intercept': True, 'n_jobs': None, 'normalize': False}\n",
      "\n",
      "RMSE 0.6522437994589771\n",
      "\n",
      "fold number 3 and method 1\n",
      "\n",
      "regression model evaluation for: Ridge_Regression\n",
      " Scikit learn method Ridge(alpha=167.8, copy_X=True, fit_intercept=True, max_iter=None,\n",
      "   normalize=False, random_state=None, solver='cholesky', tol=0.001)\n",
      "\n",
      "Fitted Regression intercept -0.03368686084390454\n",
      "\\Fitted Response coeffecient [-0.07943667  0.0484464  -0.05856691  0.0893318  -0.06197938  0.23916531\n",
      " -0.03356027 -0.11929223  0.03703568 -0.06473965 -0.14796376 -0.28499306]\n",
      "\n",
      "R-squared 0.46627130004056494\n",
      "{'alpha': 167.8, 'copy_X': True, 'fit_intercept': True, 'max_iter': None, 'normalize': False, 'random_state': None, 'solver': 'cholesky', 'tol': 0.001}\n",
      "\n",
      "RMSE 0.7864471871074539\n",
      "\n",
      "fold number 3 and method 2\n",
      "\n",
      "regression model evaluation for: Lasso_Regression\n",
      " Scikit learn method ElasticNet(alpha=0.1, copy_X=True, fit_intercept=True, l1_ratio=0.5,\n",
      "      max_iter=1000, normalize=False, positive=False, precompute=False,\n",
      "      random_state=None, selection='cyclic', tol=0.0001, warm_start=False)\n",
      "\n",
      "Fitted Regression intercept -0.03007247215279009\n",
      "\\Fitted Response coeffecient [-0.03947732  0.         -0.          0.06684805 -0.          0.25394568\n",
      " -0.         -0.0117421  -0.         -0.01728697 -0.16490938 -0.39008561]\n",
      "\n",
      "R-squared 0.47702289551265287\n",
      "{'alpha': 0.1, 'copy_X': True, 'fit_intercept': True, 'l1_ratio': 0.5, 'max_iter': 1000, 'normalize': False, 'positive': False, 'precompute': False, 'random_state': None, 'selection': 'cyclic', 'tol': 0.0001, 'warm_start': False}\n",
      "\n",
      "RMSE 0.7784856710254168\n",
      "\n",
      "fold number 3 and method 3\n",
      "\n",
      "regression model evaluation for: ElasticNet\n",
      " Scikit learn method Lasso(alpha=0.0101, copy_X=True, fit_intercept=True, max_iter=1000,\n",
      "   normalize=False, positive=False, precompute=False, random_state=42,\n",
      "   selection='cyclic', tol=0.0001, warm_start=False)\n",
      "\n",
      "Fitted Regression intercept -0.014780482332076711\n",
      "\\Fitted Response coeffecient [-0.08746406  0.07364787 -0.00379923  0.08732503 -0.14963534  0.23508877\n",
      " -0.         -0.24756542  0.13088409 -0.11232913 -0.21289166 -0.43676367]\n",
      "\n",
      "R-squared 0.6097376311358691\n",
      "{'alpha': 0.0101, 'copy_X': True, 'fit_intercept': True, 'max_iter': 1000, 'normalize': False, 'positive': False, 'precompute': False, 'random_state': 42, 'selection': 'cyclic', 'tol': 0.0001, 'warm_start': False}\n",
      "\n",
      "RMSE 0.6724927758022381\n",
      "\n",
      "fold number 4 and method 0\n",
      "\n",
      "regression model evaluation for: Linear_Regression\n",
      " Scikit learn method LinearRegression(copy_X=True, fit_intercept=True, n_jobs=None,\n",
      "         normalize=False)\n",
      "\n",
      "Fitted Regression intercept -0.01198015202771395\n",
      "\\Fitted Response coeffecient [-0.11069087  0.14778838 -0.00567027  0.12747855 -0.26847738  0.20531112\n",
      "  0.07188764 -0.36455138  0.27483498 -0.22422375 -0.23075897 -0.47264525]\n",
      "\n",
      "R-squared 0.5342286831540056\n",
      "{'copy_X': True, 'fit_intercept': True, 'n_jobs': None, 'normalize': False}\n",
      "\n",
      "RMSE 0.6217833818375665\n",
      "\n",
      "fold number 4 and method 1\n",
      "\n",
      "regression model evaluation for: Ridge_Regression\n",
      " Scikit learn method Ridge(alpha=167.8, copy_X=True, fit_intercept=True, max_iter=None,\n",
      "   normalize=False, random_state=None, solver='cholesky', tol=0.001)\n",
      "\n",
      "Fitted Regression intercept -0.016841859584108408\n",
      "\\Fitted Response coeffecient [-0.07393537  0.06755306 -0.05348855  0.10963711 -0.08835019  0.23865485\n",
      " -0.00396166 -0.13519785  0.02948476 -0.05993343 -0.16593453 -0.30561973]\n",
      "\n",
      "R-squared 0.557883614212185\n",
      "{'alpha': 167.8, 'copy_X': True, 'fit_intercept': True, 'max_iter': None, 'normalize': False, 'random_state': None, 'solver': 'cholesky', 'tol': 0.001}\n",
      "\n",
      "RMSE 0.6057885298734283\n",
      "\n",
      "fold number 4 and method 2\n",
      "\n",
      "regression model evaluation for: Lasso_Regression\n",
      " Scikit learn method ElasticNet(alpha=0.1, copy_X=True, fit_intercept=True, l1_ratio=0.5,\n",
      "      max_iter=1000, normalize=False, positive=False, precompute=False,\n",
      "      random_state=None, selection='cyclic', tol=0.0001, warm_start=False)\n",
      "\n",
      "Fitted Regression intercept -0.020663019322496506\n",
      "\\Fitted Response coeffecient [-0.02925657  0.         -0.          0.06456662 -0.02821704  0.25845878\n",
      " -0.         -0.03409065 -0.         -0.00287512 -0.18173493 -0.42297095]\n",
      "\n",
      "R-squared 0.5933318631533959\n",
      "{'alpha': 0.1, 'copy_X': True, 'fit_intercept': True, 'l1_ratio': 0.5, 'max_iter': 1000, 'normalize': False, 'positive': False, 'precompute': False, 'random_state': None, 'selection': 'cyclic', 'tol': 0.0001, 'warm_start': False}\n",
      "\n",
      "RMSE 0.5809955600133102\n",
      "\n",
      "fold number 4 and method 3\n",
      "\n",
      "regression model evaluation for: ElasticNet\n",
      " Scikit learn method Lasso(alpha=0.0101, copy_X=True, fit_intercept=True, max_iter=1000,\n",
      "   normalize=False, positive=False, precompute=False, random_state=42,\n",
      "   selection='cyclic', tol=0.0001, warm_start=False)\n",
      "\n",
      "Fitted Regression intercept -0.015574989656660022\n",
      "\\Fitted Response coeffecient [-0.08122054  0.1086161  -0.01452752  0.11526522 -0.19913743  0.22861636\n",
      "  0.01974268 -0.30886751  0.1303752  -0.1038681  -0.21221965 -0.45873603]\n",
      "\n",
      "R-squared 0.5809287715085265\n",
      "{'alpha': 0.0101, 'copy_X': True, 'fit_intercept': True, 'max_iter': 1000, 'normalize': False, 'positive': False, 'precompute': False, 'random_state': 42, 'selection': 'cyclic', 'tol': 0.0001, 'warm_start': False}\n",
      "\n",
      "RMSE 0.5897889928306431\n",
      "\n",
      "fold number 5 and method 0\n",
      "\n",
      "regression model evaluation for: Linear_Regression\n",
      " Scikit learn method LinearRegression(copy_X=True, fit_intercept=True, n_jobs=None,\n",
      "         normalize=False)\n",
      "\n",
      "Fitted Regression intercept 0.005659958784834551\n",
      "\\Fitted Response coeffecient [-0.11301994  0.14827693  0.03469998  0.09019326 -0.26450287  0.23164106\n",
      "  0.00169384 -0.3482912   0.27743749 -0.24049806 -0.20137494 -0.44848414]\n",
      "\n",
      "R-squared 0.7248910073380552\n",
      "{'copy_X': True, 'fit_intercept': True, 'n_jobs': None, 'normalize': False}\n",
      "\n",
      "RMSE 0.49601152882865296\n",
      "\n",
      "fold number 5 and method 1\n",
      "\n",
      "regression model evaluation for: Ridge_Regression\n",
      " Scikit learn method Ridge(alpha=167.8, copy_X=True, fit_intercept=True, max_iter=None,\n",
      "   normalize=False, random_state=None, solver='cholesky', tol=0.001)\n",
      "\n",
      "Fitted Regression intercept -0.01958187108672614\n",
      "\\Fitted Response coeffecient [-0.07681439  0.05150529 -0.0342036   0.08331337 -0.10026342  0.2420451\n",
      " -0.02811295 -0.11604963  0.02709051 -0.05141523 -0.1367232  -0.3017652 ]\n",
      "\n",
      "R-squared 0.5788262667912527\n",
      "{'alpha': 167.8, 'copy_X': True, 'fit_intercept': True, 'max_iter': None, 'normalize': False, 'random_state': None, 'solver': 'cholesky', 'tol': 0.001}\n",
      "\n",
      "RMSE 0.6137196331128292\n",
      "\n",
      "fold number 5 and method 2\n",
      "\n",
      "regression model evaluation for: Lasso_Regression\n",
      " Scikit learn method ElasticNet(alpha=0.1, copy_X=True, fit_intercept=True, l1_ratio=0.5,\n",
      "      max_iter=1000, normalize=False, positive=False, precompute=False,\n",
      "      random_state=None, selection='cyclic', tol=0.0001, warm_start=False)\n",
      "\n",
      "Fitted Regression intercept -0.025919029991335385\n",
      "\\Fitted Response coeffecient [-0.03823478  0.         -0.          0.05041288 -0.04756436  0.2505228\n",
      " -0.         -0.01865662 -0.         -0.         -0.13966523 -0.40346415]\n",
      "\n",
      "R-squared 0.547191017769947\n",
      "{'alpha': 0.1, 'copy_X': True, 'fit_intercept': True, 'l1_ratio': 0.5, 'max_iter': 1000, 'normalize': False, 'positive': False, 'precompute': False, 'random_state': None, 'selection': 'cyclic', 'tol': 0.0001, 'warm_start': False}\n",
      "\n",
      "RMSE 0.6363512392674313\n",
      "\n",
      "fold number 5 and method 3\n",
      "\n",
      "regression model evaluation for: ElasticNet\n",
      " Scikit learn method Lasso(alpha=0.0101, copy_X=True, fit_intercept=True, max_iter=1000,\n",
      "   normalize=False, positive=False, precompute=False, random_state=42,\n",
      "   selection='cyclic', tol=0.0001, warm_start=False)\n",
      "\n",
      "Fitted Regression intercept -0.004106039518779886\n",
      "\\Fitted Response coeffecient [-0.08455232  0.09443225 -0.          0.08586213 -0.20986626  0.24323915\n",
      " -0.         -0.27282463  0.1195775  -0.08983905 -0.18464247 -0.44311193]\n",
      "\n",
      "R-squared 0.7143179923202894\n",
      "{'alpha': 0.0101, 'copy_X': True, 'fit_intercept': True, 'max_iter': 1000, 'normalize': False, 'positive': False, 'precompute': False, 'random_state': 42, 'selection': 'cyclic', 'tol': 0.0001, 'warm_start': False}\n",
      "\n",
      "RMSE 0.5054530508566903\n",
      "\n",
      "fold number 6 and method 0\n",
      "\n",
      "regression model evaluation for: Linear_Regression\n",
      " Scikit learn method LinearRegression(copy_X=True, fit_intercept=True, n_jobs=None,\n",
      "         normalize=False)\n",
      "\n",
      "Fitted Regression intercept 0.008941252403873789\n",
      "\\Fitted Response coeffecient [-0.11447335  0.11289095 -0.00078952  0.07304751 -0.25064154  0.26539458\n",
      "  0.00088703 -0.39699454  0.27908231 -0.25049963 -0.22205569 -0.4450419 ]\n",
      "\n",
      "R-squared 0.3782678938987154\n",
      "{'copy_X': True, 'fit_intercept': True, 'n_jobs': None, 'normalize': False}\n",
      "\n",
      "RMSE 0.343828185197933\n",
      "\n",
      "fold number 6 and method 1\n",
      "\n",
      "regression model evaluation for: Ridge_Regression\n",
      " Scikit learn method Ridge(alpha=167.8, copy_X=True, fit_intercept=True, max_iter=None,\n",
      "   normalize=False, random_state=None, solver='cholesky', tol=0.001)\n",
      "\n",
      "Fitted Regression intercept 0.02717256447985452\n",
      "\\Fitted Response coeffecient [-0.07439225  0.04333386 -0.06427289  0.07801356 -0.0790241   0.27317562\n",
      " -0.02736685 -0.12908195  0.02320897 -0.06141516 -0.15830755 -0.30971371]\n",
      "\n",
      "R-squared 0.31866518308949576\n",
      "{'alpha': 167.8, 'copy_X': True, 'fit_intercept': True, 'max_iter': None, 'normalize': False, 'random_state': None, 'solver': 'cholesky', 'tol': 0.001}\n",
      "\n",
      "RMSE 0.35993171749554165\n",
      "\n",
      "fold number 6 and method 2\n",
      "\n",
      "regression model evaluation for: Lasso_Regression\n",
      " Scikit learn method ElasticNet(alpha=0.1, copy_X=True, fit_intercept=True, l1_ratio=0.5,\n",
      "      max_iter=1000, normalize=False, positive=False, precompute=False,\n",
      "      random_state=None, selection='cyclic', tol=0.0001, warm_start=False)\n",
      "\n",
      "Fitted Regression intercept 0.031199277325025112\n",
      "\\Fitted Response coeffecient [-0.03265816  0.         -0.00357397  0.04824604 -0.01803926  0.29579318\n",
      " -0.         -0.01512897 -0.         -0.02586053 -0.16360976 -0.41594742]\n",
      "\n",
      "R-squared 0.1643537164439104\n",
      "{'alpha': 0.1, 'copy_X': True, 'fit_intercept': True, 'l1_ratio': 0.5, 'max_iter': 1000, 'normalize': False, 'positive': False, 'precompute': False, 'random_state': None, 'selection': 'cyclic', 'tol': 0.0001, 'warm_start': False}\n",
      "\n",
      "RMSE 0.3986126441426351\n",
      "\n",
      "fold number 6 and method 3\n",
      "\n",
      "regression model evaluation for: ElasticNet\n",
      " Scikit learn method Lasso(alpha=0.0101, copy_X=True, fit_intercept=True, max_iter=1000,\n",
      "   normalize=False, positive=False, precompute=False, random_state=42,\n",
      "   selection='cyclic', tol=0.0001, warm_start=False)\n",
      "\n",
      "Fitted Regression intercept 0.015491147605755212\n",
      "\\Fitted Response coeffecient [-0.08275481  0.06770945 -0.0251561   0.07189473 -0.19339874  0.28031848\n",
      " -0.         -0.30588072  0.11721933 -0.10234941 -0.208051   -0.44421244]\n",
      "\n",
      "R-squared 0.42757062898317166\n",
      "{'alpha': 0.0101, 'copy_X': True, 'fit_intercept': True, 'max_iter': 1000, 'normalize': False, 'positive': False, 'precompute': False, 'random_state': 42, 'selection': 'cyclic', 'tol': 0.0001, 'warm_start': False}\n",
      "\n",
      "RMSE 0.32991402789427876\n",
      "\n",
      "fold number 7 and method 0\n",
      "\n",
      "regression model evaluation for: Linear_Regression\n",
      " Scikit learn method LinearRegression(copy_X=True, fit_intercept=True, n_jobs=None,\n",
      "         normalize=False)\n",
      "\n",
      "Fitted Regression intercept -0.043045602135584504\n",
      "\\Fitted Response coeffecient [-0.02209289  0.05558445  0.04293061  0.0309466  -0.19138677  0.53206806\n",
      " -0.0953144  -0.26432142  0.08561609 -0.22989864 -0.19873962 -0.1903533 ]\n",
      "\n",
      "R-squared -0.014566207830289724\n",
      "{'copy_X': True, 'fit_intercept': True, 'n_jobs': None, 'normalize': False}\n",
      "\n",
      "RMSE 1.34082722477313\n",
      "\n",
      "fold number 7 and method 1\n",
      "\n",
      "regression model evaluation for: Ridge_Regression\n",
      " Scikit learn method Ridge(alpha=167.8, copy_X=True, fit_intercept=True, max_iter=None,\n",
      "   normalize=False, random_state=None, solver='cholesky', tol=0.001)\n",
      "\n",
      "Fitted Regression intercept -0.03326936235711736\n",
      "\\Fitted Response coeffecient [-0.03007186  0.03942601 -0.04765627  0.04159415 -0.07875021  0.377936\n",
      " -0.04737516 -0.11637206 -0.01760046 -0.09538827 -0.16567267 -0.20768818]\n",
      "\n",
      "R-squared 0.14937819845187128\n",
      "{'alpha': 167.8, 'copy_X': True, 'fit_intercept': True, 'max_iter': None, 'normalize': False, 'random_state': None, 'solver': 'cholesky', 'tol': 0.001}\n",
      "\n",
      "RMSE 1.2277243731680754\n",
      "\n",
      "fold number 7 and method 2\n",
      "\n",
      "regression model evaluation for: Lasso_Regression\n",
      " Scikit learn method ElasticNet(alpha=0.1, copy_X=True, fit_intercept=True, l1_ratio=0.5,\n",
      "      max_iter=1000, normalize=False, positive=False, precompute=False,\n",
      "      random_state=None, selection='cyclic', tol=0.0001, warm_start=False)\n",
      "\n",
      "Fitted Regression intercept -0.03378560937748076\n",
      "\\Fitted Response coeffecient [-0.          0.         -0.          0.         -0.02671125  0.48988645\n",
      " -0.         -0.         -0.         -0.11932863 -0.16606774 -0.21411406]\n",
      "\n",
      "R-squared 0.01287993497346629\n",
      "{'alpha': 0.1, 'copy_X': True, 'fit_intercept': True, 'l1_ratio': 0.5, 'max_iter': 1000, 'normalize': False, 'positive': False, 'precompute': False, 'random_state': None, 'selection': 'cyclic', 'tol': 0.0001, 'warm_start': False}\n",
      "\n",
      "RMSE 1.322566788673336\n",
      "\n",
      "fold number 7 and method 3\n",
      "\n",
      "regression model evaluation for: ElasticNet\n",
      " Scikit learn method Lasso(alpha=0.0101, copy_X=True, fit_intercept=True, max_iter=1000,\n",
      "   normalize=False, positive=False, precompute=False, random_state=42,\n",
      "   selection='cyclic', tol=0.0001, warm_start=False)\n",
      "\n",
      "Fitted Regression intercept -0.042732230973117416\n",
      "\\Fitted Response coeffecient [-0.          0.02279018  0.          0.02654056 -0.14493176  0.53994125\n",
      " -0.07878701 -0.20285806  0.         -0.14512693 -0.18914438 -0.1872843 ]\n",
      "\n",
      "R-squared -0.051284735242585144\n",
      "{'alpha': 0.0101, 'copy_X': True, 'fit_intercept': True, 'max_iter': 1000, 'normalize': False, 'positive': False, 'precompute': False, 'random_state': 42, 'selection': 'cyclic', 'tol': 0.0001, 'warm_start': False}\n",
      "\n",
      "RMSE 1.3648747584408742\n",
      "\n",
      "fold number 8 and method 0\n",
      "\n",
      "regression model evaluation for: Linear_Regression\n",
      " Scikit learn method LinearRegression(copy_X=True, fit_intercept=True, n_jobs=None,\n",
      "         normalize=False)\n",
      "\n",
      "Fitted Regression intercept 0.03370025325331892\n",
      "\\Fitted Response coeffecient [-0.15565679  0.11428404  0.01865756  0.064665   -0.18131478  0.34989869\n",
      " -0.01800014 -0.32326161  0.32410334 -0.23440966 -0.19322112 -0.39845873]\n",
      "\n",
      "R-squared -1.04100084176042\n",
      "{'copy_X': True, 'fit_intercept': True, 'n_jobs': None, 'normalize': False}\n",
      "\n",
      "RMSE 0.6697047890403504\n",
      "\n",
      "fold number 8 and method 1\n",
      "\n",
      "regression model evaluation for: Ridge_Regression\n",
      " Scikit learn method Ridge(alpha=167.8, copy_X=True, fit_intercept=True, max_iter=None,\n",
      "   normalize=False, random_state=None, solver='cholesky', tol=0.001)\n",
      "\n",
      "Fitted Regression intercept 0.03548356267912632\n",
      "\\Fitted Response coeffecient [-0.0809012   0.05335985 -0.0486215   0.07276154 -0.05903095  0.32268013\n",
      " -0.02956216 -0.13513445  0.05782244 -0.05083184 -0.1498178  -0.28597027]\n",
      "\n",
      "R-squared -0.849726904438014\n",
      "{'alpha': 167.8, 'copy_X': True, 'fit_intercept': True, 'max_iter': None, 'normalize': False, 'random_state': None, 'solver': 'cholesky', 'tol': 0.001}\n",
      "\n",
      "RMSE 0.6375520101620255\n",
      "\n",
      "fold number 8 and method 2\n",
      "\n",
      "regression model evaluation for: Lasso_Regression\n",
      " Scikit learn method ElasticNet(alpha=0.1, copy_X=True, fit_intercept=True, l1_ratio=0.5,\n",
      "      max_iter=1000, normalize=False, positive=False, precompute=False,\n",
      "      random_state=None, selection='cyclic', tol=0.0001, warm_start=False)\n",
      "\n",
      "Fitted Regression intercept 0.04031199409635748\n",
      "\\Fitted Response coeffecient [-0.0230709   0.         -0.          0.04103088 -0.          0.3820982\n",
      " -0.         -0.03283519  0.         -0.         -0.1450864  -0.36515134]\n",
      "\n",
      "R-squared -1.280664352141197\n",
      "{'alpha': 0.1, 'copy_X': True, 'fit_intercept': True, 'l1_ratio': 0.5, 'max_iter': 1000, 'normalize': False, 'positive': False, 'precompute': False, 'random_state': None, 'selection': 'cyclic', 'tol': 0.0001, 'warm_start': False}\n",
      "\n",
      "RMSE 0.7079335584604189\n",
      "\n",
      "fold number 8 and method 3\n",
      "\n",
      "regression model evaluation for: ElasticNet\n",
      " Scikit learn method Lasso(alpha=0.0101, copy_X=True, fit_intercept=True, max_iter=1000,\n",
      "   normalize=False, positive=False, precompute=False, random_state=42,\n",
      "   selection='cyclic', tol=0.0001, warm_start=False)\n",
      "\n",
      "Fitted Regression intercept 0.03328658377880177\n",
      "\\Fitted Response coeffecient [-0.1155053   0.08068964 -0.          0.06236618 -0.13583688  0.36137523\n",
      " -0.00163479 -0.25244047  0.18415179 -0.11933417 -0.18055446 -0.40420627]\n",
      "\n",
      "R-squared -1.0037849593718993\n",
      "{'alpha': 0.0101, 'copy_X': True, 'fit_intercept': True, 'max_iter': 1000, 'normalize': False, 'positive': False, 'precompute': False, 'random_state': 42, 'selection': 'cyclic', 'tol': 0.0001, 'warm_start': False}\n",
      "\n",
      "RMSE 0.6635709557608803\n",
      "\n",
      "fold number 9 and method 0\n",
      "\n",
      "regression model evaluation for: Linear_Regression\n",
      " Scikit learn method LinearRegression(copy_X=True, fit_intercept=True, n_jobs=None,\n",
      "         normalize=False)\n",
      "\n",
      "Fitted Regression intercept -0.004165299014140228\n",
      "\\Fitted Response coeffecient [-0.10727116  0.13089117  0.01341125  0.07572248 -0.22610109  0.27982983\n",
      "  0.04153967 -0.33550252  0.3262372  -0.30856213 -0.2064141  -0.45214428]\n",
      "\n",
      "R-squared 0.477957357260997\n",
      "{'copy_X': True, 'fit_intercept': True, 'n_jobs': None, 'normalize': False}\n",
      "\n",
      "RMSE 0.3331377635873666\n",
      "\n",
      "fold number 9 and method 1\n",
      "\n",
      "regression model evaluation for: Ridge_Regression\n",
      " Scikit learn method Ridge(alpha=167.8, copy_X=True, fit_intercept=True, max_iter=None,\n",
      "   normalize=False, random_state=None, solver='cholesky', tol=0.001)\n",
      "\n",
      "Fitted Regression intercept -0.003650835186920512\n",
      "\\Fitted Response coeffecient [-0.07271951  0.05937299 -0.05386483  0.08143863 -0.0807733   0.28674053\n",
      " -0.00827006 -0.14325382  0.02001809 -0.07176974 -0.15720209 -0.30176088]\n",
      "\n",
      "R-squared 0.5946510687018272\n",
      "{'alpha': 167.8, 'copy_X': True, 'fit_intercept': True, 'max_iter': None, 'normalize': False, 'random_state': None, 'solver': 'cholesky', 'tol': 0.001}\n",
      "\n",
      "RMSE 0.2935522356986978\n",
      "\n",
      "fold number 9 and method 2\n",
      "\n",
      "regression model evaluation for: Lasso_Regression\n",
      " Scikit learn method ElasticNet(alpha=0.1, copy_X=True, fit_intercept=True, l1_ratio=0.5,\n",
      "      max_iter=1000, normalize=False, positive=False, precompute=False,\n",
      "      random_state=None, selection='cyclic', tol=0.0001, warm_start=False)\n",
      "\n",
      "Fitted Regression intercept 0.0019254517773760957\n",
      "\\Fitted Response coeffecient [-0.03470337  0.         -0.          0.05147872 -0.02725247  0.32150297\n",
      " -0.         -0.05157068 -0.         -0.02702968 -0.16414203 -0.39798532]\n",
      "\n",
      "R-squared 0.5750557926062987\n",
      "{'alpha': 0.1, 'copy_X': True, 'fit_intercept': True, 'l1_ratio': 0.5, 'max_iter': 1000, 'normalize': False, 'positive': False, 'precompute': False, 'random_state': None, 'selection': 'cyclic', 'tol': 0.0001, 'warm_start': False}\n",
      "\n",
      "RMSE 0.30056391079608297\n",
      "\n",
      "fold number 9 and method 3\n",
      "\n",
      "regression model evaluation for: ElasticNet\n",
      " Scikit learn method Lasso(alpha=0.0101, copy_X=True, fit_intercept=True, max_iter=1000,\n",
      "   normalize=False, positive=False, precompute=False, random_state=42,\n",
      "   selection='cyclic', tol=0.0001, warm_start=False)\n",
      "\n",
      "Fitted Regression intercept -0.0014407363231493664\n",
      "\\Fitted Response coeffecient [-0.07855403  0.09327381 -0.          0.0753827  -0.17154837  0.30267065\n",
      "  0.         -0.29073297  0.13414644 -0.14458946 -0.18767582 -0.4337843 ]\n",
      "\n",
      "R-squared 0.5828194502756073\n",
      "{'alpha': 0.0101, 'copy_X': True, 'fit_intercept': True, 'max_iter': 1000, 'normalize': False, 'positive': False, 'precompute': False, 'random_state': 42, 'selection': 'cyclic', 'tol': 0.0001, 'warm_start': False}\n",
      "\n",
      "RMSE 0.29780562887913453\n"
     ]
    }
   ],
   "source": [
    "index_for_fold = 0\n",
    "for train_index, test_index in kf.split(model_data):\n",
    "    X_train = model_data[train_index, 1:model_data.shape[1]]\n",
    "    X_test = model_data[test_index, 1:model_data.shape[1]]\n",
    "    y_train = model_data[train_index, 0]\n",
    "    y_test = model_data[test_index, 0]\n",
    "    \n",
    "    \n",
    "    index_for_method = 0\n",
    "    for name, reg_model in zip(names, regressors):\n",
    "        print(\"\\nfold number {} and method {}\".format(index_for_fold,index_for_method))\n",
    "        print('\\nregression model evaluation for:', name)\n",
    "        print(' Scikit learn method',reg_model)\n",
    "        reg_model.fit(X_train, y_train)\n",
    "        print('\\nFitted Regression intercept',reg_model.intercept_)\n",
    "        print('\\Fitted Response coeffecient',reg_model.coef_)\n",
    "    \n",
    "        y_test_predict = reg_model.predict(X_test)\n",
    "        print('\\nR-squared', r2_score(y_test,y_test_predict))\n",
    "        fold_method_result = sqrt(mean_squared_error(y_test, y_test_predict))\n",
    "        print(reg_model.get_params(deep=True))\n",
    "        print('\\nRMSE',fold_method_result)\n",
    "        cv_results[index_for_fold, index_for_method] = fold_method_result\n",
    "        index_for_method +=1\n",
    "\n",
    "    index_for_fold = index_for_fold +1\n",
    "\n",
    "cv_results_df = pd.DataFrame(cv_results)\n",
    "cv_results_df.columns = names\n"
   ]
  },
  {
   "cell_type": "code",
   "execution_count": 946,
   "metadata": {},
   "outputs": [
    {
     "data": {
      "text/html": [
       "<div>\n",
       "<style scoped>\n",
       "    .dataframe tbody tr th:only-of-type {\n",
       "        vertical-align: middle;\n",
       "    }\n",
       "\n",
       "    .dataframe tbody tr th {\n",
       "        vertical-align: top;\n",
       "    }\n",
       "\n",
       "    .dataframe thead th {\n",
       "        text-align: right;\n",
       "    }\n",
       "</style>\n",
       "<table border=\"1\" class=\"dataframe\">\n",
       "  <thead>\n",
       "    <tr style=\"text-align: right;\">\n",
       "      <th></th>\n",
       "      <th>Linear_Regression</th>\n",
       "      <th>Ridge_Regression</th>\n",
       "      <th>Lasso_Regression</th>\n",
       "      <th>ElasticNet</th>\n",
       "    </tr>\n",
       "  </thead>\n",
       "  <tbody>\n",
       "    <tr>\n",
       "      <th>0</th>\n",
       "      <td>0.308034</td>\n",
       "      <td>0.324087</td>\n",
       "      <td>0.300472</td>\n",
       "      <td>0.297237</td>\n",
       "    </tr>\n",
       "    <tr>\n",
       "      <th>1</th>\n",
       "      <td>0.414889</td>\n",
       "      <td>0.351161</td>\n",
       "      <td>0.336669</td>\n",
       "      <td>0.392574</td>\n",
       "    </tr>\n",
       "    <tr>\n",
       "      <th>2</th>\n",
       "      <td>0.438938</td>\n",
       "      <td>0.284613</td>\n",
       "      <td>0.321841</td>\n",
       "      <td>0.400885</td>\n",
       "    </tr>\n",
       "    <tr>\n",
       "      <th>3</th>\n",
       "      <td>0.652244</td>\n",
       "      <td>0.786447</td>\n",
       "      <td>0.778486</td>\n",
       "      <td>0.672493</td>\n",
       "    </tr>\n",
       "    <tr>\n",
       "      <th>4</th>\n",
       "      <td>0.621783</td>\n",
       "      <td>0.605789</td>\n",
       "      <td>0.580996</td>\n",
       "      <td>0.589789</td>\n",
       "    </tr>\n",
       "    <tr>\n",
       "      <th>5</th>\n",
       "      <td>0.496012</td>\n",
       "      <td>0.613720</td>\n",
       "      <td>0.636351</td>\n",
       "      <td>0.505453</td>\n",
       "    </tr>\n",
       "    <tr>\n",
       "      <th>6</th>\n",
       "      <td>0.343828</td>\n",
       "      <td>0.359932</td>\n",
       "      <td>0.398613</td>\n",
       "      <td>0.329914</td>\n",
       "    </tr>\n",
       "    <tr>\n",
       "      <th>7</th>\n",
       "      <td>1.340827</td>\n",
       "      <td>1.227724</td>\n",
       "      <td>1.322567</td>\n",
       "      <td>1.364875</td>\n",
       "    </tr>\n",
       "    <tr>\n",
       "      <th>8</th>\n",
       "      <td>0.669705</td>\n",
       "      <td>0.637552</td>\n",
       "      <td>0.707934</td>\n",
       "      <td>0.663571</td>\n",
       "    </tr>\n",
       "    <tr>\n",
       "      <th>9</th>\n",
       "      <td>0.333138</td>\n",
       "      <td>0.293552</td>\n",
       "      <td>0.300564</td>\n",
       "      <td>0.297806</td>\n",
       "    </tr>\n",
       "  </tbody>\n",
       "</table>\n",
       "</div>"
      ],
      "text/plain": [
       "   Linear_Regression  Ridge_Regression  Lasso_Regression  ElasticNet\n",
       "0           0.308034          0.324087          0.300472    0.297237\n",
       "1           0.414889          0.351161          0.336669    0.392574\n",
       "2           0.438938          0.284613          0.321841    0.400885\n",
       "3           0.652244          0.786447          0.778486    0.672493\n",
       "4           0.621783          0.605789          0.580996    0.589789\n",
       "5           0.496012          0.613720          0.636351    0.505453\n",
       "6           0.343828          0.359932          0.398613    0.329914\n",
       "7           1.340827          1.227724          1.322567    1.364875\n",
       "8           0.669705          0.637552          0.707934    0.663571\n",
       "9           0.333138          0.293552          0.300564    0.297806"
      ]
     },
     "execution_count": 946,
     "metadata": {},
     "output_type": "execute_result"
    }
   ],
   "source": [
    "cv_results_df\n"
   ]
  },
  {
   "cell_type": "code",
   "execution_count": 948,
   "metadata": {},
   "outputs": [
    {
     "name": "stdout",
     "output_type": "stream",
     "text": [
      "0.5619397427745954\n",
      "0.5484576252505431\n",
      "0.5684491220215488\n",
      "0.5514596190048139\n"
     ]
    }
   ],
   "source": [
    "print(cv_results_df['Linear_Regression'].mean())\n",
    "print(cv_results_df['Ridge_Regression'].mean())\n",
    "print(cv_results_df['Lasso_Regression'].mean())\n",
    "print(cv_results_df['ElasticNet'].mean())"
   ]
  },
  {
   "cell_type": "code",
   "execution_count": 30,
   "metadata": {},
   "outputs": [],
   "source": [
    "lr = LinearRegression()"
   ]
  },
  {
   "cell_type": "code",
   "execution_count": 31,
   "metadata": {},
   "outputs": [
    {
     "data": {
      "text/plain": [
       "LinearRegression(copy_X=True, fit_intercept=True, n_jobs=None,\n",
       "         normalize=False)"
      ]
     },
     "execution_count": 31,
     "metadata": {},
     "output_type": "execute_result"
    }
   ],
   "source": [
    "lr.fit(X_train,y_train)"
   ]
  },
  {
   "cell_type": "code",
   "execution_count": 32,
   "metadata": {},
   "outputs": [
    {
     "name": "stdout",
     "output_type": "stream",
     "text": [
      "0.738145372476744\n",
      "0.47795735726099703\n"
     ]
    }
   ],
   "source": [
    "print(lr.score(X_train,y_train))\n",
    "print(lr.score(X_test,y_test))"
   ]
  },
  {
   "cell_type": "code",
   "execution_count": 33,
   "metadata": {},
   "outputs": [
    {
     "name": "stdout",
     "output_type": "stream",
     "text": [
      "[-0.10727116  0.13089117  0.01341125  0.07572248 -0.22610109  0.27982983\n",
      "  0.04153967 -0.33550252  0.3262372  -0.30856213 -0.2064141  -0.45214428]\n",
      "-0.004165299014140228\n"
     ]
    }
   ],
   "source": [
    "print(lr.coef_)\n",
    "print(lr.intercept_)"
   ]
  },
  {
   "cell_type": "code",
   "execution_count": 34,
   "metadata": {},
   "outputs": [],
   "source": [
    "ridge = Ridge(alpha = 167)\n"
   ]
  },
  {
   "cell_type": "code",
   "execution_count": 35,
   "metadata": {},
   "outputs": [
    {
     "data": {
      "text/plain": [
       "Ridge(alpha=167, copy_X=True, fit_intercept=True, max_iter=None,\n",
       "   normalize=False, random_state=None, solver='auto', tol=0.001)"
      ]
     },
     "execution_count": 35,
     "metadata": {},
     "output_type": "execute_result"
    }
   ],
   "source": [
    "ridge.fit(X_train,y_train)"
   ]
  },
  {
   "cell_type": "code",
   "execution_count": 36,
   "metadata": {},
   "outputs": [
    {
     "name": "stdout",
     "output_type": "stream",
     "text": [
      "0.6984332622175082\n",
      "0.5946508319541426\n"
     ]
    }
   ],
   "source": [
    "print(ridge.score(X_train, y_train))\n",
    "print(ridge.score(X_test, y_test))"
   ]
  },
  {
   "cell_type": "code",
   "execution_count": 37,
   "metadata": {},
   "outputs": [],
   "source": [
    "lasso = Lasso(alpha = .0101)"
   ]
  },
  {
   "cell_type": "code",
   "execution_count": 38,
   "metadata": {},
   "outputs": [
    {
     "data": {
      "text/plain": [
       "Lasso(alpha=0.0101, copy_X=True, fit_intercept=True, max_iter=1000,\n",
       "   normalize=False, positive=False, precompute=False, random_state=None,\n",
       "   selection='cyclic', tol=0.0001, warm_start=False)"
      ]
     },
     "execution_count": 38,
     "metadata": {},
     "output_type": "execute_result"
    }
   ],
   "source": [
    "lasso.fit(X_train, y_train)"
   ]
  },
  {
   "cell_type": "code",
   "execution_count": 39,
   "metadata": {},
   "outputs": [
    {
     "data": {
      "text/plain": [
       "array([-0.07855403,  0.09327381, -0.        ,  0.0753827 , -0.17154837,\n",
       "        0.30267065,  0.        , -0.29073297,  0.13414644, -0.14458946,\n",
       "       -0.18767582, -0.4337843 ])"
      ]
     },
     "execution_count": 39,
     "metadata": {},
     "output_type": "execute_result"
    }
   ],
   "source": [
    "lasso.coef_"
   ]
  },
  {
   "cell_type": "code",
   "execution_count": 40,
   "metadata": {},
   "outputs": [
    {
     "data": {
      "text/plain": [
       "0.5828194502756073"
      ]
     },
     "execution_count": 40,
     "metadata": {},
     "output_type": "execute_result"
    }
   ],
   "source": [
    "lasso.score(X_test,y_test)"
   ]
  },
  {
   "cell_type": "code",
   "execution_count": 41,
   "metadata": {},
   "outputs": [
    {
     "data": {
      "text/plain": [
       "KFold(n_splits=10, random_state=42, shuffle=False)"
      ]
     },
     "execution_count": 41,
     "metadata": {},
     "output_type": "execute_result"
    }
   ],
   "source": [
    "kf"
   ]
  },
  {
   "cell_type": "code",
   "execution_count": 42,
   "metadata": {},
   "outputs": [
    {
     "data": {
      "text/plain": [
       "<generator object _BaseKFold.split at 0x1c241dfcf0>"
      ]
     },
     "execution_count": 42,
     "metadata": {},
     "output_type": "execute_result"
    }
   ],
   "source": [
    "kf.split(model_data)"
   ]
  },
  {
   "cell_type": "code",
   "execution_count": null,
   "metadata": {},
   "outputs": [],
   "source": []
  },
  {
   "cell_type": "code",
   "execution_count": null,
   "metadata": {},
   "outputs": [],
   "source": []
  },
  {
   "cell_type": "code",
   "execution_count": 842,
   "metadata": {},
   "outputs": [],
   "source": []
  },
  {
   "cell_type": "code",
   "execution_count": null,
   "metadata": {},
   "outputs": [],
   "source": []
  }
 ],
 "metadata": {
  "kernelspec": {
   "display_name": "Python 3",
   "language": "python",
   "name": "python3"
  },
  "language_info": {
   "codemirror_mode": {
    "name": "ipython",
    "version": 3
   },
   "file_extension": ".py",
   "mimetype": "text/x-python",
   "name": "python",
   "nbconvert_exporter": "python",
   "pygments_lexer": "ipython3",
   "version": "3.7.4"
  }
 },
 "nbformat": 4,
 "nbformat_minor": 2
}
