{
 "cells": [
  {
   "cell_type": "code",
   "execution_count": 172,
   "metadata": {},
   "outputs": [],
   "source": [
    "# Jump-Start for the Bank Marketing Study\n",
    "# as described in Marketing Data Science: Modeling Techniques\n",
    "# for Predictive Analytics with R and Python (Miller 2015)\n",
    "\n",
    "# jump-start code revised by Thomas W. Milller (2018/10/07)\n",
    "\n",
    "# Scikit Learn documentation for this assignment:\n",
    "# http://scikit-learn.org/stable/auto_examples/classification/\n",
    "#   plot_classifier_comparison.html\n",
    "# http://scikit-learn.org/stable/modules/generated/\n",
    "#   sklearn.naive_bayes.BernoulliNB.html#sklearn.naive_bayes.BernoulliNB.score\n",
    "# http://scikit-learn.org/stable/modules/generated/\n",
    "#   sklearn.linear_model.LogisticRegression.html\n",
    "# http://scikit-learn.org/stable/modules/model_evaluation.html \n",
    "# http://scikit-learn.org/stable/modules/generated/\n",
    "#  sklearn.model_selection.KFold.html\n",
    "\n",
    "# prepare for Python version 3x features and functions\n",
    "# comment out for Python 3.x execution\n",
    "# from __future__ import division, print_function\n",
    "# from future_builtins import ascii, filter, hex, map, oct, zip\n",
    "\n",
    "# seed value for random number generators to obtain reproducible results\n",
    "\n",
    "\n"
   ]
  },
  {
   "cell_type": "code",
   "execution_count": 173,
   "metadata": {},
   "outputs": [],
   "source": [
    "RANDOM_SEED = 1"
   ]
  },
  {
   "cell_type": "code",
   "execution_count": 174,
   "metadata": {},
   "outputs": [],
   "source": [
    "# import base packages into the namespace for this program\n",
    "import numpy as np\n",
    "import pandas as pd\n",
    "\n",
    "import matplotlib.pyplot as plt\n",
    "from sklearn.model_selection import train_test_split #split the data into training and test sets\n",
    "from sklearn.linear_model import LogisticRegression \n",
    "from sklearn.metrics import classification_report\n",
    "from sklearn.metrics import confusion_matrix\n",
    "from sklearn.metrics import accuracy_score\n",
    "from sklearn.metrics import roc_auc_score\n",
    "from sklearn.metrics import roc_curve, auc\n",
    "from sklearn.preprocessing import binarize # to adjust thresholds\n",
    "from sklearn.naive_bayes import BernoulliNB #bernoulli \n",
    "import statsmodels.api as sm #to print report\n",
    "import seaborn as sns\n",
    "from sklearn.model_selection import cross_val_score"
   ]
  },
  {
   "cell_type": "code",
   "execution_count": 175,
   "metadata": {},
   "outputs": [],
   "source": [
    "# initial work with the smaller data set\n",
    "bank = pd.read_csv('/Users/honpro/2. Term Deposits/bank.csv', sep = ';')\n",
    "\n"
   ]
  },
  {
   "cell_type": "code",
   "execution_count": 176,
   "metadata": {},
   "outputs": [
    {
     "name": "stdout",
     "output_type": "stream",
     "text": [
      "(4521, 17)\n",
      "(4521, 17)\n"
     ]
    },
    {
     "data": {
      "text/html": [
       "<div>\n",
       "<style scoped>\n",
       "    .dataframe tbody tr th:only-of-type {\n",
       "        vertical-align: middle;\n",
       "    }\n",
       "\n",
       "    .dataframe tbody tr th {\n",
       "        vertical-align: top;\n",
       "    }\n",
       "\n",
       "    .dataframe thead th {\n",
       "        text-align: right;\n",
       "    }\n",
       "</style>\n",
       "<table border=\"1\" class=\"dataframe\">\n",
       "  <thead>\n",
       "    <tr style=\"text-align: right;\">\n",
       "      <th></th>\n",
       "      <th>age</th>\n",
       "      <th>job</th>\n",
       "      <th>marital</th>\n",
       "      <th>education</th>\n",
       "      <th>default</th>\n",
       "      <th>balance</th>\n",
       "      <th>housing</th>\n",
       "      <th>loan</th>\n",
       "      <th>contact</th>\n",
       "      <th>day</th>\n",
       "      <th>month</th>\n",
       "      <th>duration</th>\n",
       "      <th>campaign</th>\n",
       "      <th>pdays</th>\n",
       "      <th>previous</th>\n",
       "      <th>poutcome</th>\n",
       "      <th>response</th>\n",
       "    </tr>\n",
       "  </thead>\n",
       "  <tbody>\n",
       "    <tr>\n",
       "      <th>0</th>\n",
       "      <td>30</td>\n",
       "      <td>unemployed</td>\n",
       "      <td>married</td>\n",
       "      <td>primary</td>\n",
       "      <td>no</td>\n",
       "      <td>1787</td>\n",
       "      <td>no</td>\n",
       "      <td>no</td>\n",
       "      <td>cellular</td>\n",
       "      <td>19</td>\n",
       "      <td>oct</td>\n",
       "      <td>79</td>\n",
       "      <td>1</td>\n",
       "      <td>-1</td>\n",
       "      <td>0</td>\n",
       "      <td>unknown</td>\n",
       "      <td>no</td>\n",
       "    </tr>\n",
       "    <tr>\n",
       "      <th>1</th>\n",
       "      <td>33</td>\n",
       "      <td>services</td>\n",
       "      <td>married</td>\n",
       "      <td>secondary</td>\n",
       "      <td>no</td>\n",
       "      <td>4789</td>\n",
       "      <td>yes</td>\n",
       "      <td>yes</td>\n",
       "      <td>cellular</td>\n",
       "      <td>11</td>\n",
       "      <td>may</td>\n",
       "      <td>220</td>\n",
       "      <td>1</td>\n",
       "      <td>339</td>\n",
       "      <td>4</td>\n",
       "      <td>failure</td>\n",
       "      <td>no</td>\n",
       "    </tr>\n",
       "    <tr>\n",
       "      <th>2</th>\n",
       "      <td>35</td>\n",
       "      <td>management</td>\n",
       "      <td>single</td>\n",
       "      <td>tertiary</td>\n",
       "      <td>no</td>\n",
       "      <td>1350</td>\n",
       "      <td>yes</td>\n",
       "      <td>no</td>\n",
       "      <td>cellular</td>\n",
       "      <td>16</td>\n",
       "      <td>apr</td>\n",
       "      <td>185</td>\n",
       "      <td>1</td>\n",
       "      <td>330</td>\n",
       "      <td>1</td>\n",
       "      <td>failure</td>\n",
       "      <td>no</td>\n",
       "    </tr>\n",
       "    <tr>\n",
       "      <th>3</th>\n",
       "      <td>30</td>\n",
       "      <td>management</td>\n",
       "      <td>married</td>\n",
       "      <td>tertiary</td>\n",
       "      <td>no</td>\n",
       "      <td>1476</td>\n",
       "      <td>yes</td>\n",
       "      <td>yes</td>\n",
       "      <td>unknown</td>\n",
       "      <td>3</td>\n",
       "      <td>jun</td>\n",
       "      <td>199</td>\n",
       "      <td>4</td>\n",
       "      <td>-1</td>\n",
       "      <td>0</td>\n",
       "      <td>unknown</td>\n",
       "      <td>no</td>\n",
       "    </tr>\n",
       "    <tr>\n",
       "      <th>4</th>\n",
       "      <td>59</td>\n",
       "      <td>blue-collar</td>\n",
       "      <td>married</td>\n",
       "      <td>secondary</td>\n",
       "      <td>no</td>\n",
       "      <td>0</td>\n",
       "      <td>yes</td>\n",
       "      <td>no</td>\n",
       "      <td>unknown</td>\n",
       "      <td>5</td>\n",
       "      <td>may</td>\n",
       "      <td>226</td>\n",
       "      <td>1</td>\n",
       "      <td>-1</td>\n",
       "      <td>0</td>\n",
       "      <td>unknown</td>\n",
       "      <td>no</td>\n",
       "    </tr>\n",
       "  </tbody>\n",
       "</table>\n",
       "</div>"
      ],
      "text/plain": [
       "   age          job  marital  education default  balance housing loan  \\\n",
       "0   30   unemployed  married    primary      no     1787      no   no   \n",
       "1   33     services  married  secondary      no     4789     yes  yes   \n",
       "2   35   management   single   tertiary      no     1350     yes   no   \n",
       "3   30   management  married   tertiary      no     1476     yes  yes   \n",
       "4   59  blue-collar  married  secondary      no        0     yes   no   \n",
       "\n",
       "    contact  day month  duration  campaign  pdays  previous poutcome response  \n",
       "0  cellular   19   oct        79         1     -1         0  unknown       no  \n",
       "1  cellular   11   may       220         1    339         4  failure       no  \n",
       "2  cellular   16   apr       185         1    330         1  failure       no  \n",
       "3   unknown    3   jun       199         4     -1         0  unknown       no  \n",
       "4   unknown    5   may       226         1     -1         0  unknown       no  "
      ]
     },
     "execution_count": 176,
     "metadata": {},
     "output_type": "execute_result"
    }
   ],
   "source": [
    "# examine the shape of original input data\n",
    "print(bank.shape)\n",
    "\n",
    "# drop observations with missing data, if any\n",
    "bank.dropna()\n",
    "# examine the shape of input data after dropping missing data\n",
    "print(bank.shape)\n",
    "\n",
    "# look at the list of column names, note that y is the response\n",
    "list(bank.columns.values)\n",
    "\n",
    "# look at the beginning of the DataFrame\n",
    "bank.head()\n",
    "\n",
    "\n",
    "#######################################################\n",
    "#Data has 4521 observations across 17 variables(columns)\n",
    "#missing values are removed.\n",
    "#variable values are a mix of numeric and character values.\n",
    "#response variable is Yes/No\n",
    "#######################################################\n"
   ]
  },
  {
   "cell_type": "code",
   "execution_count": 177,
   "metadata": {},
   "outputs": [
    {
     "data": {
      "text/html": [
       "<div>\n",
       "<style scoped>\n",
       "    .dataframe tbody tr th:only-of-type {\n",
       "        vertical-align: middle;\n",
       "    }\n",
       "\n",
       "    .dataframe tbody tr th {\n",
       "        vertical-align: top;\n",
       "    }\n",
       "\n",
       "    .dataframe thead th {\n",
       "        text-align: right;\n",
       "    }\n",
       "</style>\n",
       "<table border=\"1\" class=\"dataframe\">\n",
       "  <thead>\n",
       "    <tr style=\"text-align: right;\">\n",
       "      <th></th>\n",
       "      <th>age</th>\n",
       "      <th>balance</th>\n",
       "      <th>day</th>\n",
       "      <th>duration</th>\n",
       "      <th>campaign</th>\n",
       "      <th>pdays</th>\n",
       "      <th>previous</th>\n",
       "    </tr>\n",
       "  </thead>\n",
       "  <tbody>\n",
       "    <tr>\n",
       "      <th>count</th>\n",
       "      <td>4521.000000</td>\n",
       "      <td>4521.000000</td>\n",
       "      <td>4521.000000</td>\n",
       "      <td>4521.000000</td>\n",
       "      <td>4521.000000</td>\n",
       "      <td>4521.000000</td>\n",
       "      <td>4521.000000</td>\n",
       "    </tr>\n",
       "    <tr>\n",
       "      <th>mean</th>\n",
       "      <td>41.170095</td>\n",
       "      <td>1422.657819</td>\n",
       "      <td>15.915284</td>\n",
       "      <td>263.961292</td>\n",
       "      <td>2.793630</td>\n",
       "      <td>39.766645</td>\n",
       "      <td>0.542579</td>\n",
       "    </tr>\n",
       "    <tr>\n",
       "      <th>std</th>\n",
       "      <td>10.576211</td>\n",
       "      <td>3009.638142</td>\n",
       "      <td>8.247667</td>\n",
       "      <td>259.856633</td>\n",
       "      <td>3.109807</td>\n",
       "      <td>100.121124</td>\n",
       "      <td>1.693562</td>\n",
       "    </tr>\n",
       "    <tr>\n",
       "      <th>min</th>\n",
       "      <td>19.000000</td>\n",
       "      <td>-3313.000000</td>\n",
       "      <td>1.000000</td>\n",
       "      <td>4.000000</td>\n",
       "      <td>1.000000</td>\n",
       "      <td>-1.000000</td>\n",
       "      <td>0.000000</td>\n",
       "    </tr>\n",
       "    <tr>\n",
       "      <th>25%</th>\n",
       "      <td>33.000000</td>\n",
       "      <td>69.000000</td>\n",
       "      <td>9.000000</td>\n",
       "      <td>104.000000</td>\n",
       "      <td>1.000000</td>\n",
       "      <td>-1.000000</td>\n",
       "      <td>0.000000</td>\n",
       "    </tr>\n",
       "    <tr>\n",
       "      <th>50%</th>\n",
       "      <td>39.000000</td>\n",
       "      <td>444.000000</td>\n",
       "      <td>16.000000</td>\n",
       "      <td>185.000000</td>\n",
       "      <td>2.000000</td>\n",
       "      <td>-1.000000</td>\n",
       "      <td>0.000000</td>\n",
       "    </tr>\n",
       "    <tr>\n",
       "      <th>75%</th>\n",
       "      <td>49.000000</td>\n",
       "      <td>1480.000000</td>\n",
       "      <td>21.000000</td>\n",
       "      <td>329.000000</td>\n",
       "      <td>3.000000</td>\n",
       "      <td>-1.000000</td>\n",
       "      <td>0.000000</td>\n",
       "    </tr>\n",
       "    <tr>\n",
       "      <th>max</th>\n",
       "      <td>87.000000</td>\n",
       "      <td>71188.000000</td>\n",
       "      <td>31.000000</td>\n",
       "      <td>3025.000000</td>\n",
       "      <td>50.000000</td>\n",
       "      <td>871.000000</td>\n",
       "      <td>25.000000</td>\n",
       "    </tr>\n",
       "  </tbody>\n",
       "</table>\n",
       "</div>"
      ],
      "text/plain": [
       "               age       balance          day     duration     campaign  \\\n",
       "count  4521.000000   4521.000000  4521.000000  4521.000000  4521.000000   \n",
       "mean     41.170095   1422.657819    15.915284   263.961292     2.793630   \n",
       "std      10.576211   3009.638142     8.247667   259.856633     3.109807   \n",
       "min      19.000000  -3313.000000     1.000000     4.000000     1.000000   \n",
       "25%      33.000000     69.000000     9.000000   104.000000     1.000000   \n",
       "50%      39.000000    444.000000    16.000000   185.000000     2.000000   \n",
       "75%      49.000000   1480.000000    21.000000   329.000000     3.000000   \n",
       "max      87.000000  71188.000000    31.000000  3025.000000    50.000000   \n",
       "\n",
       "             pdays     previous  \n",
       "count  4521.000000  4521.000000  \n",
       "mean     39.766645     0.542579  \n",
       "std     100.121124     1.693562  \n",
       "min      -1.000000     0.000000  \n",
       "25%      -1.000000     0.000000  \n",
       "50%      -1.000000     0.000000  \n",
       "75%      -1.000000     0.000000  \n",
       "max     871.000000    25.000000  "
      ]
     },
     "execution_count": 177,
     "metadata": {},
     "output_type": "execute_result"
    }
   ],
   "source": [
    "bank.describe()\n",
    "\n",
    "##########\n",
    "#Initial review of data.  ranges are different for all variables. If all variables were used,  scaling would be needed\n",
    "########"
   ]
  },
  {
   "cell_type": "code",
   "execution_count": 199,
   "metadata": {
    "scrolled": true
   },
   "outputs": [
    {
     "data": {
      "image/png": "[encoded data removed]",
      "text/plain": [
       "<Figure size 2160x2160 with 12 Axes>"
      ]
     },
     "metadata": {
      "needs_background": "light"
     },
     "output_type": "display_data"
    }
   ],
   "source": [
    "bank.hist(grid=False, xlabelsize = 10, ylabelsize=12, figsize=(30,30))\n",
    "\n",
    "plt.ylabel(\"Counts\", fontsize = 15)\n",
    "plt.savefig('overalldistribution.pdf', \n",
    "bbox_inches = 'tight', dpi=None, facecolor='w', edgecolor='b', \n",
    "orientation='portrait', papertype=None, format=None, \n",
    "transparent=True, pad_inches=0.25, frameon=None) \n",
    "\n",
    "#####\n",
    "#Overall distribution of all variables.  Some are categorical with 1/0 for Yes/No's, others are continuous.\n",
    "#Scaling would be required if all variables were used to model.\n",
    "#####"
   ]
  },
  {
   "cell_type": "code",
   "execution_count": null,
   "metadata": {
    "scrolled": true
   },
   "outputs": [],
   "source": []
  },
  {
   "cell_type": "code",
   "execution_count": 180,
   "metadata": {},
   "outputs": [
    {
     "name": "stdout",
     "output_type": "stream",
     "text": [
      "(4521, 4)\n"
     ]
    },
    {
     "data": {
      "text/plain": [
       "array([[0, 0, 0, 0],\n",
       "       [0, 1, 1, 0],\n",
       "       [0, 1, 0, 0],\n",
       "       [0, 1, 1, 0],\n",
       "       [0, 1, 0, 0],\n",
       "       [0, 0, 0, 0],\n",
       "       [0, 1, 0, 0],\n",
       "       [0, 1, 0, 0],\n",
       "       [0, 1, 0, 0],\n",
       "       [0, 1, 1, 0]])"
      ]
     },
     "execution_count": 180,
     "metadata": {},
     "output_type": "execute_result"
    }
   ],
   "source": [
    "# mapping function to convert text no/yes to integer 0/1\n",
    "convert_to_binary = {'no' : 0, 'yes' : 1}\n",
    "\n",
    "# define binary variable for having credit in default\n",
    "default = bank['default'].map(convert_to_binary)\n",
    "\n",
    "# define binary variable for having a mortgage or housing loan\n",
    "housing = bank['housing'].map(convert_to_binary)\n",
    "\n",
    "# define binary variable for having a personal loan\n",
    "loan = bank['loan'].map(convert_to_binary)\n",
    "\n",
    "# define response variable to use in the model\n",
    "response = bank['response'].map(convert_to_binary)\n",
    "\n",
    "# gather three explanatory variables and response into a numpy array \n",
    "# here we use .T to obtain the transpose for the structure we want\n",
    "model_data = np.array([np.array(default), np.array(housing), np.array(loan), \n",
    "    np.array(response)]).T\n",
    "\n",
    "# examine the shape of model_data, which we will use in subsequent modeling\n",
    "print(model_data.shape)\n",
    "\n",
    "model_data[0:10]\n"
   ]
  },
  {
   "cell_type": "code",
   "execution_count": 181,
   "metadata": {},
   "outputs": [],
   "source": [
    "# the rest of the program should set up the modeling methods\n",
    "# and evaluation within a cross-validation design\n",
    "\n",
    "bank['default'] = bank['default'].map(convert_to_binary)\n",
    "bank['housing']=bank['housing'].map(convert_to_binary)\n",
    "bank['loan']=bank['loan'].map(convert_to_binary)\n",
    "bank['response'] = bank['response'].map(convert_to_binary)\n",
    "\n",
    "########\n",
    "#converted required variables to 0/1\n",
    "#######\n"
   ]
  },
  {
   "cell_type": "code",
   "execution_count": 182,
   "metadata": {},
   "outputs": [],
   "source": [
    "bank1 = bank[['default', 'housing', 'loan', 'response']]\n",
    "#X = model_data[:,0:2]\n",
    "#y = model_data[:,3]\n",
    "\n",
    "########\n",
    "#recreated data set with the 3 required independent variables + response variables\n",
    "########\n"
   ]
  },
  {
   "cell_type": "code",
   "execution_count": 197,
   "metadata": {},
   "outputs": [
    {
     "data": {
      "image/png": "[encoded data removed]",
      "text/plain": [
       "<Figure size 432x288 with 1 Axes>"
      ]
     },
     "metadata": {
      "needs_background": "light"
     },
     "output_type": "display_data"
    },
    {
     "data": {
      "image/png": "[encoded data removed]",
      "text/plain": [
       "<Figure size 432x288 with 1 Axes>"
      ]
     },
     "metadata": {
      "needs_background": "light"
     },
     "output_type": "display_data"
    },
    {
     "data": {
      "image/png": "[encoded data removed]",
      "text/plain": [
       "<Figure size 432x288 with 1 Axes>"
      ]
     },
     "metadata": {
      "needs_background": "light"
     },
     "output_type": "display_data"
    },
    {
     "data": {
      "image/png": "[encoded data removed]",
      "text/plain": [
       "<Figure size 432x288 with 1 Axes>"
      ]
     },
     "metadata": {
      "needs_background": "light"
     },
     "output_type": "display_data"
    }
   ],
   "source": [
    "#######\n",
    "#Data exploration\n",
    "#######\n",
    "#bank1['response'].value_counts()\n",
    "#sns.countplot(x='response', data=bank1, palette='hls')\n",
    "#plt.xlabel('Response')\n",
    "#plt.ylabel('frequency')\n",
    "#plt.title('Response distribution')\n",
    "#plt.show()\n",
    "\n",
    "for i in bank1:\n",
    "    sns.countplot(bank1[i])\n",
    "\n",
    "    plt.show()\n",
    "\n",
    "##########\n",
    "#Data is heavily imbalanced.\n",
    "#Default Rate is low\n",
    "#Housing is fairly balanced\n",
    "#Most do not have loan\n",
    "#Response rate is also very low\n",
    "############\n",
    "\n",
    "\n",
    "\n"
   ]
  },
  {
   "cell_type": "code",
   "execution_count": 184,
   "metadata": {},
   "outputs": [],
   "source": [
    "#Seperate response and features\n",
    "X = bank1.drop('response', axis = 1)\n",
    "y = bank1['response']\n",
    "\n",
    "########\n",
    "#seperate the independent variables into X's an y's.\n",
    "########"
   ]
  },
  {
   "cell_type": "code",
   "execution_count": 185,
   "metadata": {},
   "outputs": [],
   "source": [
    "#train split test\n",
    "X_train, X_test, y_train, y_test = train_test_split(X, y, test_size = .2, random_state = RANDOM_SEED)\n",
    "\n",
    "########\n",
    "#split data to train/test split,  Seed = 1,  80% for training, 20% for testing\n",
    "########"
   ]
  },
  {
   "cell_type": "markdown",
   "metadata": {},
   "source": [
    "Logistic Regression"
   ]
  },
  {
   "cell_type": "code",
   "execution_count": 186,
   "metadata": {},
   "outputs": [],
   "source": [
    "#Create logistic regression model\n",
    "logmodel = LogisticRegression()\n",
    "\n",
    "######\n",
    "#Create instance of logistic model\n",
    "######"
   ]
  },
  {
   "cell_type": "code",
   "execution_count": 187,
   "metadata": {},
   "outputs": [
    {
     "name": "stdout",
     "output_type": "stream",
     "text": [
      "LogisticRegression(C=1.0, class_weight=None, dual=False, fit_intercept=True,\n",
      "          intercept_scaling=1, max_iter=100, multi_class='warn',\n",
      "          n_jobs=None, penalty='l2', random_state=None, solver='warn',\n",
      "          tol=0.0001, verbose=0, warm_start=False)\n"
     ]
    },
    {
     "name": "stderr",
     "output_type": "stream",
     "text": [
      "/anaconda3/lib/python3.7/site-packages/sklearn/linear_model/logistic.py:433: FutureWarning: Default solver will be changed to 'lbfgs' in 0.22. Specify a solver to silence this warning.\n",
      "  FutureWarning)\n"
     ]
    }
   ],
   "source": [
    "\n",
    "model= logmodel.fit(X_train, y_train)\n",
    "print(model)\n",
    "#####\n",
    "#Fit and print the model\n",
    "#######\n"
   ]
  },
  {
   "cell_type": "code",
   "execution_count": 188,
   "metadata": {},
   "outputs": [
    {
     "name": "stdout",
     "output_type": "stream",
     "text": [
      "Optimization terminated successfully.\n",
      "         Current function value: 0.442227\n",
      "         Iterations 7\n",
      "                           Logit Regression Results                           \n",
      "==============================================================================\n",
      "Dep. Variable:               response   No. Observations:                 4521\n",
      "Model:                          Logit   Df Residuals:                     4518\n",
      "Method:                           MLE   Df Model:                            2\n",
      "Date:                Sun, 07 Jul 2019   Pseudo R-squ.:                 -0.2376\n",
      "Time:                        21:35:31   Log-Likelihood:                -1999.3\n",
      "converged:                       True   LL-Null:                       -1615.5\n",
      "                                        LLR p-value:                     1.000\n",
      "==============================================================================\n",
      "                 coef    std err          z      P>|z|      [0.025      0.975]\n",
      "------------------------------------------------------------------------------\n",
      "default       -0.6207      0.387     -1.605      0.108      -1.378       0.137\n",
      "housing       -2.1992      0.071    -30.878      0.000      -2.339      -2.060\n",
      "loan          -1.8959      0.163    -11.662      0.000      -2.215      -1.577\n",
      "==============================================================================\n"
     ]
    }
   ],
   "source": [
    "logit = sm.Logit(y,X)\n",
    "result=logit.fit()\n",
    "print(result.summary())\n",
    "#coefficients\n",
    "#model.coef_\n",
    "\n",
    "#########\n",
    "#Print statistic summary\n",
    "#model results show default variable may not be significant.  housing and loan are siginicant.\n",
    "#coeficcient shows log odds.\n",
    "#Holding all variables constant,  housing variable has a slightly higher influence, as compared to loan amount\n",
    "#########"
   ]
  },
  {
   "cell_type": "code",
   "execution_count": 189,
   "metadata": {},
   "outputs": [
    {
     "name": "stdout",
     "output_type": "stream",
     "text": [
      "[[3210    0]\n",
      " [ 406    0]]\n",
      "Initial training accuracy score is 88.77%\n"
     ]
    }
   ],
   "source": [
    "#Reviewing training set results\n",
    "y_train_predict = logmodel.predict(X_train)\n",
    "cm_train = confusion_matrix(y_train, y_train_predict)\n",
    "print(cm_train)\n",
    "training_score = accuracy_score(y_train, y_train_predict)\n",
    "\n",
    "\n",
    "print('Initial training accuracy score is {0:.2%}'.format(training_score))\n"
   ]
  },
  {
   "cell_type": "code",
   "execution_count": 190,
   "metadata": {},
   "outputs": [
    {
     "data": {
      "text/plain": [
       "array([[0.91089983, 0.08910017],\n",
       "       [0.91089983, 0.08910017],\n",
       "       [0.91089983, 0.08910017],\n",
       "       [0.91089983, 0.08910017],\n",
       "       [0.91089983, 0.08910017],\n",
       "       [0.89823886, 0.10176114],\n",
       "       [0.91089983, 0.08910017],\n",
       "       [0.83699615, 0.16300385],\n",
       "       [0.83699615, 0.16300385],\n",
       "       [0.83699615, 0.16300385]])"
      ]
     },
     "execution_count": 190,
     "metadata": {},
     "output_type": "execute_result"
    }
   ],
   "source": [
    "y_train_predict_prob = logmodel.predict_proba(X_train)\n",
    "y_train_predict_prob[0:10]\n",
    "\n",
    "#######\n",
    "#Rather than outputting the results as class factors outputting the results as probabilityies.\n",
    "#First column shows probability of getting 0.  second column shows probability of getting a 1.\n",
    "#######"
   ]
  },
  {
   "cell_type": "code",
   "execution_count": 192,
   "metadata": {},
   "outputs": [
    {
     "data": {
      "image/png": "[encoded data removed]",
      "text/plain": [
       "<Figure size 432x288 with 1 Axes>"
      ]
     },
     "metadata": {
      "needs_background": "light"
     },
     "output_type": "display_data"
    }
   ],
   "source": [
    "plt.hist(y_train_predict_prob[:,1], bins = 20)\n",
    "plt.xlim(0,1)\n",
    "plt.title('histogram of predicted probabilities for training set')\n",
    "plt.xlabel('Predicted Probabilities')\n",
    "plt.ylabel('Frequency')\n",
    "plt.savefig('Training_probaility.pdf')\n",
    "\n",
    "########\n",
    "#Inspecting the probaiblity results, most predicted probabilities fall below 20%.  With a default threshold of 50%,\n",
    "#this explains the high accuracy rate\n",
    "#########"
   ]
  },
  {
   "cell_type": "code",
   "execution_count": 151,
   "metadata": {},
   "outputs": [
    {
     "data": {
      "text/plain": [
       "array([0., 0., 0., 0., 0., 1., 0., 1., 1., 1.])"
      ]
     },
     "execution_count": 151,
     "metadata": {},
     "output_type": "execute_result"
    }
   ],
   "source": [
    "#####\n",
    "#Adjust the threshold to 10%\n",
    "#######\n",
    "y_train_predict = binarize(y_train_predict_prob, .1)[:,1]\n",
    "y_train_predict_prob[0:10]\n",
    "y_train_predict[0:10]"
   ]
  },
  {
   "cell_type": "code",
   "execution_count": 152,
   "metadata": {},
   "outputs": [
    {
     "name": "stdout",
     "output_type": "stream",
     "text": [
      "[[2064 1146]\n",
      " [ 179  227]]\n"
     ]
    }
   ],
   "source": [
    "##Rerun confusion matrix with new threshold\n",
    "cm_train = confusion_matrix(y_train, y_train_predict)\n",
    "print(cm_train)"
   ]
  },
  {
   "cell_type": "code",
   "execution_count": 153,
   "metadata": {},
   "outputs": [
    {
     "name": "stdout",
     "output_type": "stream",
     "text": [
      "Updated training accuracy score is 63.36%\n"
     ]
    }
   ],
   "source": [
    "#Updated Accuracy Rate\n",
    "training_score = accuracy_score(y_train, y_train_predict)\n",
    "\n",
    "print('Updated training accuracy score is {0:.2%}'.format(training_score))\n"
   ]
  },
  {
   "cell_type": "markdown",
   "metadata": {},
   "source": [
    "Running on Test Set"
   ]
  },
  {
   "cell_type": "code",
   "execution_count": 154,
   "metadata": {},
   "outputs": [
    {
     "data": {
      "text/plain": [
       "array([0, 0, 0, 0, 0, 0, 0, 0, 0, 0])"
      ]
     },
     "execution_count": 154,
     "metadata": {},
     "output_type": "execute_result"
    }
   ],
   "source": [
    "y_test_pred_class = logmodel.predict(X_test)\n",
    "y_test_pred_class[0:10]\n",
    "\n",
    "\n",
    "########\n",
    "#Testing on the 20% Test set and outputing the first 10 results\n",
    "#######\n"
   ]
  },
  {
   "cell_type": "code",
   "execution_count": 155,
   "metadata": {},
   "outputs": [
    {
     "name": "stdout",
     "output_type": "stream",
     "text": [
      "Initial accuracy score is 87.29%\n"
     ]
    }
   ],
   "source": [
    "score = accuracy_score(y_test, y_test_pred_class)\n",
    "print('Initial accuracy score is {0:.2%}'.format(score))\n",
    "#######\n",
    "#Initial results shows roughly 87.29%.  This is prior to adjusting the threshold\n",
    "########"
   ]
  },
  {
   "cell_type": "code",
   "execution_count": 156,
   "metadata": {},
   "outputs": [
    {
     "data": {
      "text/plain": [
       "array([[0.91422181, 0.08577819],\n",
       "       [0.91422181, 0.08577819],\n",
       "       [0.91089983, 0.08910017],\n",
       "       [0.83699615, 0.16300385],\n",
       "       [0.91089983, 0.08910017],\n",
       "       [0.91089983, 0.08910017],\n",
       "       [0.83699615, 0.16300385],\n",
       "       [0.91089983, 0.08910017],\n",
       "       [0.91089983, 0.08910017],\n",
       "       [0.91089983, 0.08910017]])"
      ]
     },
     "execution_count": 156,
     "metadata": {},
     "output_type": "execute_result"
    }
   ],
   "source": [
    "y_test_pred_prob = logmodel.predict_proba(X_test)\n",
    "y_test_pred_prob[0:10]\n",
    "\n",
    "#######\n",
    "#Outputting results as probabilities\n",
    "#######"
   ]
  },
  {
   "cell_type": "code",
   "execution_count": 157,
   "metadata": {},
   "outputs": [],
   "source": [
    "%matplotlib inline\n",
    "plt.rcParams['font.size'] = 14\n"
   ]
  },
  {
   "cell_type": "code",
   "execution_count": 158,
   "metadata": {},
   "outputs": [
    {
     "data": {
      "text/plain": [
       "Text(0, 0.5, 'Frequency')"
      ]
     },
     "execution_count": 158,
     "metadata": {},
     "output_type": "execute_result"
    },
    {
     "data": {
      "image/png": "[encoded data removed]",
      "text/plain": [
       "<Figure size 432x288 with 1 Axes>"
      ]
     },
     "metadata": {
      "needs_background": "light"
     },
     "output_type": "display_data"
    }
   ],
   "source": [
    "plt.hist(y_test_pred_prob[:,1], bins = 20)\n",
    "plt.xlim(0,1)\n",
    "plt.title('histogram of predicted probabilities')\n",
    "plt.xlabel('Predicted Probabilities')\n",
    "plt.ylabel('Frequency')\n",
    "\n",
    "########\n",
    "#Inspecting the probaiblity results.  It is also skewed with most probabilities < 20%"
   ]
  },
  {
   "cell_type": "code",
   "execution_count": 159,
   "metadata": {},
   "outputs": [],
   "source": [
    "y_test_pred_class = binarize(y_test_pred_prob, .1)[:,1]\n",
    "\n",
    "#######\n",
    "#Adjusting threshold to 10%\n",
    "#######\n"
   ]
  },
  {
   "cell_type": "code",
   "execution_count": 160,
   "metadata": {},
   "outputs": [
    {
     "data": {
      "text/plain": [
       "array([0., 0., 0., 1., 0., 0., 1., 0., 0., 0.])"
      ]
     },
     "execution_count": 160,
     "metadata": {},
     "output_type": "execute_result"
    }
   ],
   "source": [
    "y_test_pred_class[0:10]"
   ]
  },
  {
   "cell_type": "code",
   "execution_count": 193,
   "metadata": {},
   "outputs": [
    {
     "data": {
      "image/png": "[encoded data removed]",
      "text/plain": [
       "<Figure size 432x288 with 1 Axes>"
      ]
     },
     "metadata": {
      "needs_background": "light"
     },
     "output_type": "display_data"
    }
   ],
   "source": [
    "fpr, tpr, thresholds = roc_curve(y_test, y_test_pred_prob[:,1])\n",
    "plt.plot(fpr,tpr)\n",
    "plt.xlim([0.0, 1.0])\n",
    "plt.ylim([0.0, 1.0])\n",
    "plt.title('ROC Curve')\n",
    "plt.xlabel('False Postive')\n",
    "plt.ylabel('True Positive')\n",
    "plt.savefig('ROC.pdf')\n",
    "plt.grid(True)\n",
    "\n",
    "#####\n",
    "#Plotting ROC curve with test set.\n",
    "######\n",
    "\n"
   ]
  },
  {
   "cell_type": "code",
   "execution_count": 162,
   "metadata": {},
   "outputs": [
    {
     "name": "stdout",
     "output_type": "stream",
     "text": [
      "AUC score is around 59.75%\n"
     ]
    }
   ],
   "source": [
    "AUC_Score = roc_auc_score(y_test, y_test_pred_prob[:,1])\n",
    "print('AUC score is around {0:.2%}'.format(AUC_Score))\n",
    "\n",
    "####\n",
    "#AUC score is almost 60% towards at the 10% threshold\n",
    "#####"
   ]
  },
  {
   "cell_type": "code",
   "execution_count": 163,
   "metadata": {},
   "outputs": [
    {
     "name": "stdout",
     "output_type": "stream",
     "text": [
      "0.6298342541436464\n"
     ]
    }
   ],
   "source": [
    "print(accuracy_score(y_test, y_test_pred_class))\n",
    "\n"
   ]
  },
  {
   "cell_type": "code",
   "execution_count": 164,
   "metadata": {},
   "outputs": [
    {
     "name": "stdout",
     "output_type": "stream",
     "text": [
      "[[511 279]\n",
      " [ 56  59]]\n"
     ]
    }
   ],
   "source": [
    "print(confusion_matrix(y_test, y_test_pred_class))"
   ]
  },
  {
   "cell_type": "code",
   "execution_count": 165,
   "metadata": {},
   "outputs": [
    {
     "name": "stdout",
     "output_type": "stream",
     "text": [
      "              precision    recall  f1-score   support\n",
      "\n",
      "           0       0.90      0.65      0.75       790\n",
      "           1       0.17      0.51      0.26       115\n",
      "\n",
      "   micro avg       0.63      0.63      0.63       905\n",
      "   macro avg       0.54      0.58      0.51       905\n",
      "weighted avg       0.81      0.63      0.69       905\n",
      "\n"
     ]
    }
   ],
   "source": [
    "print(classification_report(y_test, y_test_pred_class))"
   ]
  },
  {
   "cell_type": "markdown",
   "metadata": {},
   "source": [
    "Naive Bayes"
   ]
  },
  {
   "cell_type": "code",
   "execution_count": 166,
   "metadata": {},
   "outputs": [],
   "source": [
    "Bern=BernoulliNB(binarize=0.0)\n"
   ]
  },
  {
   "cell_type": "code",
   "execution_count": 167,
   "metadata": {},
   "outputs": [
    {
     "data": {
      "text/plain": [
       "BernoulliNB(alpha=1.0, binarize=0.0, class_prior=None, fit_prior=True)"
      ]
     },
     "execution_count": 167,
     "metadata": {},
     "output_type": "execute_result"
    }
   ],
   "source": [
    "Bern.fit(X_train, y_train)\n"
   ]
  },
  {
   "cell_type": "code",
   "execution_count": 168,
   "metadata": {},
   "outputs": [],
   "source": [
    "Bern_predict_class = Bern.predict(X_test)\n",
    "Bern_predict_class[0:10]\n",
    "Bern_predict_prob = Bern.predict_proba(X_test)\n",
    "Bern_predict_prob[0:10]\n",
    "Bern_predict_class = binarize(Bern_predict_prob, .1)[:,1]\n",
    "\n",
    "#Bernoulli"
   ]
  },
  {
   "cell_type": "code",
   "execution_count": 169,
   "metadata": {},
   "outputs": [
    {
     "data": {
      "text/plain": [
       "array([[511, 279],\n",
       "       [ 56,  59]])"
      ]
     },
     "execution_count": 169,
     "metadata": {},
     "output_type": "execute_result"
    }
   ],
   "source": [
    "confusion_matrix(y_test,Bern_predict_class)"
   ]
  },
  {
   "cell_type": "code",
   "execution_count": 194,
   "metadata": {},
   "outputs": [
    {
     "data": {
      "image/png": "[encoded data removed]",
      "text/plain": [
       "<Figure size 432x288 with 1 Axes>"
      ]
     },
     "metadata": {
      "needs_background": "light"
     },
     "output_type": "display_data"
    }
   ],
   "source": [
    "fpr, tpr, thresholds = roc_curve(y_test, Bern_predict_prob[:,1])\n",
    "plt.plot(fpr,tpr)\n",
    "plt.xlim([0.0, 1.0])\n",
    "plt.ylim([0.0, 1.0])\n",
    "plt.title('ROC Curve')\n",
    "plt.xlabel('False Postive')\n",
    "plt.ylabel('True Positive')\n",
    "plt.savefig('Bernoulli.pdf')\n",
    "plt.grid(True)\n",
    "\n",
    "#####\n",
    "#Plotting ROC curve with test set.\n",
    "######"
   ]
  },
  {
   "cell_type": "code",
   "execution_count": 171,
   "metadata": {},
   "outputs": [
    {
     "name": "stderr",
     "output_type": "stream",
     "text": [
      "/anaconda3/lib/python3.7/site-packages/sklearn/linear_model/logistic.py:433: FutureWarning: Default solver will be changed to 'lbfgs' in 0.22. Specify a solver to silence this warning.\n",
      "  FutureWarning)\n",
      "/anaconda3/lib/python3.7/site-packages/sklearn/linear_model/logistic.py:433: FutureWarning: Default solver will be changed to 'lbfgs' in 0.22. Specify a solver to silence this warning.\n",
      "  FutureWarning)\n",
      "/anaconda3/lib/python3.7/site-packages/sklearn/linear_model/logistic.py:433: FutureWarning: Default solver will be changed to 'lbfgs' in 0.22. Specify a solver to silence this warning.\n",
      "  FutureWarning)\n",
      "/anaconda3/lib/python3.7/site-packages/sklearn/linear_model/logistic.py:433: FutureWarning: Default solver will be changed to 'lbfgs' in 0.22. Specify a solver to silence this warning.\n",
      "  FutureWarning)\n",
      "/anaconda3/lib/python3.7/site-packages/sklearn/linear_model/logistic.py:433: FutureWarning: Default solver will be changed to 'lbfgs' in 0.22. Specify a solver to silence this warning.\n",
      "  FutureWarning)\n",
      "/anaconda3/lib/python3.7/site-packages/sklearn/linear_model/logistic.py:433: FutureWarning: Default solver will be changed to 'lbfgs' in 0.22. Specify a solver to silence this warning.\n",
      "  FutureWarning)\n",
      "/anaconda3/lib/python3.7/site-packages/sklearn/linear_model/logistic.py:433: FutureWarning: Default solver will be changed to 'lbfgs' in 0.22. Specify a solver to silence this warning.\n",
      "  FutureWarning)\n",
      "/anaconda3/lib/python3.7/site-packages/sklearn/linear_model/logistic.py:433: FutureWarning: Default solver will be changed to 'lbfgs' in 0.22. Specify a solver to silence this warning.\n",
      "  FutureWarning)\n",
      "/anaconda3/lib/python3.7/site-packages/sklearn/linear_model/logistic.py:433: FutureWarning: Default solver will be changed to 'lbfgs' in 0.22. Specify a solver to silence this warning.\n",
      "  FutureWarning)\n",
      "/anaconda3/lib/python3.7/site-packages/sklearn/linear_model/logistic.py:433: FutureWarning: Default solver will be changed to 'lbfgs' in 0.22. Specify a solver to silence this warning.\n",
      "  FutureWarning)\n"
     ]
    },
    {
     "data": {
      "text/plain": [
       "array([0.88674033, 0.88674033, 0.88674033, 0.88674033, 0.88674033,\n",
       "       0.88674033, 0.88919668, 0.88919668, 0.88919668, 0.88919668])"
      ]
     },
     "execution_count": 171,
     "metadata": {},
     "output_type": "execute_result"
    }
   ],
   "source": [
    "cross_val_score(logmodel, X_train, y_train, cv=10)\n"
   ]
  },
  {
   "cell_type": "code",
   "execution_count": null,
   "metadata": {},
   "outputs": [],
   "source": [
    "\n"
   ]
  },
  {
   "cell_type": "code",
   "execution_count": null,
   "metadata": {},
   "outputs": [],
   "source": []
  },
  {
   "cell_type": "code",
   "execution_count": null,
   "metadata": {},
   "outputs": [],
   "source": []
  }
 ],
 "metadata": {
  "kernelspec": {
   "display_name": "Python 3",
   "language": "python",
   "name": "python3"
  },
  "language_info": {
   "codemirror_mode": {
    "name": "ipython",
    "version": 3
   },
   "file_extension": ".py",
   "mimetype": "text/x-python",
   "name": "python",
   "nbconvert_exporter": "python",
   "pygments_lexer": "ipython3",
   "version": "3.7.4"
  }
 },
 "nbformat": 4,
 "nbformat_minor": 2
}
